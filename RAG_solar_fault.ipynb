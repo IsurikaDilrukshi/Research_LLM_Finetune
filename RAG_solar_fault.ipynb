{
  "cells": [
    {
      "cell_type": "markdown",
      "metadata": {
        "id": "view-in-github",
        "colab_type": "text"
      },
      "source": [
        "<a href=\"https://colab.research.google.com/github/IsurikaDilrukshi/Research_LLM_Finetune/blob/main/RAG_solar_fault.ipynb\" target=\"_parent\"><img src=\"https://colab.research.google.com/assets/colab-badge.svg\" alt=\"Open In Colab\"/></a>"
      ]
    },
    {
      "cell_type": "markdown",
      "metadata": {
        "id": "qPrQevtVHfAa"
      },
      "source": [
        "# **RAG Application** with LangChain and HuggingFace LLM"
      ]
    },
    {
      "cell_type": "code",
      "execution_count": null,
      "metadata": {
        "colab": {
          "base_uri": "https://localhost:8080/"
        },
        "id": "cAz0poIYiyQF",
        "outputId": "d180f20e-43c6-44d1-a5d9-f5f79157164c"
      },
      "outputs": [
        {
          "name": "stdout",
          "output_type": "stream",
          "text": [
            "\u001b[2K   \u001b[90m━━━━━━━━━━━━━━━━━━━━━━━━━━━━━━━━━━━━━━━━\u001b[0m \u001b[32m363.4/363.4 MB\u001b[0m \u001b[31m4.1 MB/s\u001b[0m eta \u001b[36m0:00:00\u001b[0m\n",
            "\u001b[2K   \u001b[90m━━━━━━━━━━━━━━━━━━━━━━━━━━━━━━━━━━━━━━━━\u001b[0m \u001b[32m13.8/13.8 MB\u001b[0m \u001b[31m60.6 MB/s\u001b[0m eta \u001b[36m0:00:00\u001b[0m\n",
            "\u001b[2K   \u001b[90m━━━━━━━━━━━━━━━━━━━━━━━━━━━━━━━━━━━━━━━━\u001b[0m \u001b[32m24.6/24.6 MB\u001b[0m \u001b[31m47.9 MB/s\u001b[0m eta \u001b[36m0:00:00\u001b[0m\n",
            "\u001b[2K   \u001b[90m━━━━━━━━━━━━━━━━━━━━━━━━━━━━━━━━━━━━━━━━\u001b[0m \u001b[32m883.7/883.7 kB\u001b[0m \u001b[31m19.1 MB/s\u001b[0m eta \u001b[36m0:00:00\u001b[0m\n",
            "\u001b[2K   \u001b[90m━━━━━━━━━━━━━━━━━━━━━━━━━━━━━━━━━━━━━━━━\u001b[0m \u001b[32m664.8/664.8 MB\u001b[0m \u001b[31m1.3 MB/s\u001b[0m eta \u001b[36m0:00:00\u001b[0m\n",
            "\u001b[2K   \u001b[90m━━━━━━━━━━━━━━━━━━━━━━━━━━━━━━━━━━━━━━━━\u001b[0m \u001b[32m211.5/211.5 MB\u001b[0m \u001b[31m5.2 MB/s\u001b[0m eta \u001b[36m0:00:00\u001b[0m\n",
            "\u001b[2K   \u001b[90m━━━━━━━━━━━━━━━━━━━━━━━━━━━━━━━━━━━━━━━━\u001b[0m \u001b[32m56.3/56.3 MB\u001b[0m \u001b[31m13.5 MB/s\u001b[0m eta \u001b[36m0:00:00\u001b[0m\n",
            "\u001b[2K   \u001b[90m━━━━━━━━━━━━━━━━━━━━━━━━━━━━━━━━━━━━━━━━\u001b[0m \u001b[32m127.9/127.9 MB\u001b[0m \u001b[31m7.3 MB/s\u001b[0m eta \u001b[36m0:00:00\u001b[0m\n",
            "\u001b[2K   \u001b[90m━━━━━━━━━━━━━━━━━━━━━━━━━━━━━━━━━━━━━━━━\u001b[0m \u001b[32m207.5/207.5 MB\u001b[0m \u001b[31m2.3 MB/s\u001b[0m eta \u001b[36m0:00:00\u001b[0m\n",
            "\u001b[2K   \u001b[90m━━━━━━━━━━━━━━━━━━━━━━━━━━━━━━━━━━━━━━━━\u001b[0m \u001b[32m21.1/21.1 MB\u001b[0m \u001b[31m71.5 MB/s\u001b[0m eta \u001b[36m0:00:00\u001b[0m\n",
            "\u001b[2K   \u001b[90m━━━━━━━━━━━━━━━━━━━━━━━━━━━━━━━━━━━━━━━━\u001b[0m \u001b[32m2.5/2.5 MB\u001b[0m \u001b[31m40.2 MB/s\u001b[0m eta \u001b[36m0:00:00\u001b[0m\n",
            "\u001b[2K   \u001b[90m━━━━━━━━━━━━━━━━━━━━━━━━━━━━━━━━━━━━━━━━\u001b[0m \u001b[32m45.2/45.2 kB\u001b[0m \u001b[31m3.9 MB/s\u001b[0m eta \u001b[36m0:00:00\u001b[0m\n",
            "\u001b[2K   \u001b[90m━━━━━━━━━━━━━━━━━━━━━━━━━━━━━━━━━━━━━━━━\u001b[0m \u001b[32m50.9/50.9 kB\u001b[0m \u001b[31m4.5 MB/s\u001b[0m eta \u001b[36m0:00:00\u001b[0m\n",
            "\u001b[2K     \u001b[90m━━━━━━━━━━━━━━━━━━━━━━━━━━━━━━━━━━━━━━━━\u001b[0m \u001b[32m67.3/67.3 kB\u001b[0m \u001b[31m5.0 MB/s\u001b[0m eta \u001b[36m0:00:00\u001b[0m\n",
            "\u001b[?25h  Installing build dependencies ... \u001b[?25l\u001b[?25hdone\n",
            "  Getting requirements to build wheel ... \u001b[?25l\u001b[?25hdone\n",
            "  Preparing metadata (pyproject.toml) ... \u001b[?25l\u001b[?25hdone\n",
            "\u001b[2K   \u001b[90m━━━━━━━━━━━━━━━━━━━━━━━━━━━━━━━━━━━━━━━━\u001b[0m \u001b[32m19.5/19.5 MB\u001b[0m \u001b[31m81.5 MB/s\u001b[0m eta \u001b[36m0:00:00\u001b[0m\n",
            "\u001b[2K   \u001b[90m━━━━━━━━━━━━━━━━━━━━━━━━━━━━━━━━━━━━━━━━\u001b[0m \u001b[32m284.2/284.2 kB\u001b[0m \u001b[31m23.4 MB/s\u001b[0m eta \u001b[36m0:00:00\u001b[0m\n",
            "\u001b[2K   \u001b[90m━━━━━━━━━━━━━━━━━━━━━━━━━━━━━━━━━━━━━━━━\u001b[0m \u001b[32m1.9/1.9 MB\u001b[0m \u001b[31m72.7 MB/s\u001b[0m eta \u001b[36m0:00:00\u001b[0m\n",
            "\u001b[2K   \u001b[90m━━━━━━━━━━━━━━━━━━━━━━━━━━━━━━━━━━━━━━━━\u001b[0m \u001b[32m101.6/101.6 kB\u001b[0m \u001b[31m9.1 MB/s\u001b[0m eta \u001b[36m0:00:00\u001b[0m\n",
            "\u001b[2K   \u001b[90m━━━━━━━━━━━━━━━━━━━━━━━━━━━━━━━━━━━━━━━━\u001b[0m \u001b[32m16.4/16.4 MB\u001b[0m \u001b[31m78.5 MB/s\u001b[0m eta \u001b[36m0:00:00\u001b[0m\n",
            "\u001b[2K   \u001b[90m━━━━━━━━━━━━━━━━━━━━━━━━━━━━━━━━━━━━━━━━\u001b[0m \u001b[32m65.8/65.8 kB\u001b[0m \u001b[31m5.9 MB/s\u001b[0m eta \u001b[36m0:00:00\u001b[0m\n",
            "\u001b[2K   \u001b[90m━━━━━━━━━━━━━━━━━━━━━━━━━━━━━━━━━━━━━━━━\u001b[0m \u001b[32m55.7/55.7 kB\u001b[0m \u001b[31m5.2 MB/s\u001b[0m eta \u001b[36m0:00:00\u001b[0m\n",
            "\u001b[2K   \u001b[90m━━━━━━━━━━━━━━━━━━━━━━━━━━━━━━━━━━━━━━━━\u001b[0m \u001b[32m118.5/118.5 kB\u001b[0m \u001b[31m11.1 MB/s\u001b[0m eta \u001b[36m0:00:00\u001b[0m\n",
            "\u001b[2K   \u001b[90m━━━━━━━━━━━━━━━━━━━━━━━━━━━━━━━━━━━━━━━━\u001b[0m \u001b[32m196.2/196.2 kB\u001b[0m \u001b[31m17.5 MB/s\u001b[0m eta \u001b[36m0:00:00\u001b[0m\n",
            "\u001b[2K   \u001b[90m━━━━━━━━━━━━━━━━━━━━━━━━━━━━━━━━━━━━━━━━\u001b[0m \u001b[32m105.4/105.4 kB\u001b[0m \u001b[31m9.1 MB/s\u001b[0m eta \u001b[36m0:00:00\u001b[0m\n",
            "\u001b[2K   \u001b[90m━━━━━━━━━━━━━━━━━━━━━━━━━━━━━━━━━━━━━━━━\u001b[0m \u001b[32m71.2/71.2 kB\u001b[0m \u001b[31m6.6 MB/s\u001b[0m eta \u001b[36m0:00:00\u001b[0m\n",
            "\u001b[2K   \u001b[90m━━━━━━━━━━━━━━━━━━━━━━━━━━━━━━━━━━━━━━━━\u001b[0m \u001b[32m459.8/459.8 kB\u001b[0m \u001b[31m36.1 MB/s\u001b[0m eta \u001b[36m0:00:00\u001b[0m\n",
            "\u001b[2K   \u001b[90m━━━━━━━━━━━━━━━━━━━━━━━━━━━━━━━━━━━━━━━━\u001b[0m \u001b[32m4.0/4.0 MB\u001b[0m \u001b[31m89.3 MB/s\u001b[0m eta \u001b[36m0:00:00\u001b[0m\n",
            "\u001b[2K   \u001b[90m━━━━━━━━━━━━━━━━━━━━━━━━━━━━━━━━━━━━━━━━\u001b[0m \u001b[32m453.1/453.1 kB\u001b[0m \u001b[31m36.6 MB/s\u001b[0m eta \u001b[36m0:00:00\u001b[0m\n",
            "\u001b[2K   \u001b[90m━━━━━━━━━━━━━━━━━━━━━━━━━━━━━━━━━━━━━━━━\u001b[0m \u001b[32m46.0/46.0 kB\u001b[0m \u001b[31m4.6 MB/s\u001b[0m eta \u001b[36m0:00:00\u001b[0m\n",
            "\u001b[2K   \u001b[90m━━━━━━━━━━━━━━━━━━━━━━━━━━━━━━━━━━━━━━━━\u001b[0m \u001b[32m86.8/86.8 kB\u001b[0m \u001b[31m8.2 MB/s\u001b[0m eta \u001b[36m0:00:00\u001b[0m\n",
            "\u001b[?25h  Building wheel for pypika (pyproject.toml) ... \u001b[?25l\u001b[?25hdone\n",
            "\u001b[2K   \u001b[90m━━━━━━━━━━━━━━━━━━━━━━━━━━━━━━━━━━━━━━━━\u001b[0m \u001b[32m305.5/305.5 kB\u001b[0m \u001b[31m7.5 MB/s\u001b[0m eta \u001b[36m0:00:00\u001b[0m\n",
            "\u001b[?25h"
          ]
        }
      ],
      "source": [
        "# Install the necessary packages\n",
        "!pip install torch -q\n",
        "!pip install transformers -q\n",
        "!pip install numpy -q\n",
        "!pip install langchain -q\n",
        "!pip install langchain_community -q\n",
        "!pip install langchain-chroma -q\n",
        "!pip install sentence_transformers -q\n",
        "!pip install rank_bm25 -q\n",
        "!pip install pypdf -q"
      ]
    },
    {
      "cell_type": "code",
      "execution_count": null,
      "metadata": {
        "id": "mvtHhNb7LlLe"
      },
      "outputs": [],
      "source": [
        "import os\n",
        "from google.colab import userdata"
      ]
    },
    {
      "cell_type": "markdown",
      "metadata": {
        "id": "imsRWg7LHnfa"
      },
      "source": [
        "### Initialize HuggingFace LLM"
      ]
    },
    {
      "cell_type": "markdown",
      "metadata": {
        "id": "JlJ6qI0xJBln"
      },
      "source": [
        "Model repo url: https://huggingface.co/mistralai/Mistral-7B-v0.1"
      ]
    },
    {
      "cell_type": "code",
      "execution_count": null,
      "metadata": {
        "colab": {
          "base_uri": "https://localhost:8080/",
          "height": 520,
          "referenced_widgets": [
            "e23828fe77b7429296bdd717c54265bb",
            "9b485ff8202b48518e280d4e4d45a33d",
            "6592b3b4d3ef4d829d259df784a7d50f",
            "bb9b0b767bb94e07ae3e40bfa091ef0f",
            "ae23d996c78e43f5883ca9b5a09a61c9",
            "ff16ed0dea034608ab5d5344a7d0e1ec",
            "41ee54ea9fb84918a0072b1b588beefe",
            "a5342cf5404a4625bd71f76c945b9dea",
            "df352ee9e09746eda7b59a2d3d512ef7",
            "47bce7773ca44d72ac5aedd687e332dd",
            "4537fc8289e641648a88d3eccad91d09",
            "b2c8b13ec5be4fa496937eaaf3871cb3",
            "fb25bcbb99644983bbabbaf97f187ee9",
            "138a21d54d0045a7b66e9554b3285e9e",
            "2251ba90b91d49a18278456f09ee9f24",
            "b315f50a6f824699b3ee9a76a400a355",
            "886a564d19e44d74a21bb006d83ad24e",
            "508a5c8454a745cfaa7a645ee7f8d1c5",
            "d563782322c64faebf29332fed7e6dd0",
            "7290f6d82f5d4c6c88ac20a4e1c379a6",
            "d25d02112c784dba9513093aff1e7f47",
            "e8be7e7e834e40b7b738202fe9737c19",
            "1a486a011e0740b0b728049619ad7f03",
            "bdafa06643094747ac17e85439d9ef15",
            "2a3475bd79a24e31901b7d82163247b7",
            "83c7adb9ec804d9cac0aaf30725bb956",
            "fd89e847dd634b7abb71094f47e28ee6",
            "af70f8d0501949ec879fdb984f093fa4",
            "04cc5bc182734c23b0a1ccbdc96eb9d5",
            "baa0ffb982634bb0bf9b4f5d7ea88710",
            "407c8de29c2c44d38ed9fc38eaf0716d",
            "e900a79fb1394764ab38e58591b8e11a",
            "d0db5b2542b040d6b8cd8424ac2c78f0",
            "3692c5f87d434799ad7abdb4c96bdc74",
            "0c95d8cb3a1245789725bf98e054642e",
            "9ee1bb5ef7cc4db38404585a3ab34ee8",
            "3cd79c7066714b88ab0497f40b955ac9",
            "ce8606d24a6748db8b8cacf69b951a75",
            "f82df57cded642988bc31d193c1bf0bd",
            "ec0df485b1f4494bafc25d610a542efc",
            "055d7aded9a04b298152a50b6131ab8f",
            "6c165c6cfe2848cc82cc1199ba09a8ae",
            "60fbdee848894851bbe626bec24a1cfe",
            "0497c0a694ac4af19aa21bf5aded6159",
            "b4894a85041f47dfb8cdb5767c0d2bb7",
            "ea5d5893859643d9bb6b820d2d0c93c3",
            "0fd7a67116bc439c9813a90c0fd21a5d",
            "ef211603e53144cab9a6dbaaf8ec5c32",
            "c5e4f81a044049f38018faa0233b310f",
            "1c857c758927403080177ceac58dc372",
            "d815bc3431314ce284fe77fecffd09f8",
            "8fae7a120780456391279817997ccb85",
            "8b00156fcaa74d40b83c6ffb94258ce2",
            "636e2aaac0984f61adb0863f0f2d6de5",
            "fcca54511dca47e2a86ef1de69e171ce",
            "d739756090334e49ab8bcd1ad9fad93a",
            "5ccfe69d0fcd42e3a7e16965f15b1689",
            "65cc0948af11441484d6c60702870495",
            "3f97c3b8007641cd9d7298e50f8381b5",
            "d6f5af91960a490c88c76f914fce644a",
            "1c34562bc1264a14b76bb7046823f02f",
            "4e48532e6d5a44cd878ecb632b9bec70",
            "7f788586e4224bd7b459cb421f5aee11",
            "89e535828cc24d40bd10a1e83ed90e9f",
            "5f6e7c3b11a641fda1b99f68a1cf75d9",
            "a9d41103a7a8459a9c8fd52cdbf342bb",
            "7a7cc21b49c248ae8b12235379531f5e",
            "758f38d94cc845e8ac982f77c35b4bab",
            "40a38ecc14264ce498ec4336adf6db70",
            "4b903635374a4dbe83a5da192d956a80",
            "9d5ab35d323a4f679334b67f07f72589",
            "138bf4142c304e7aa86f71e8d83011c3",
            "408ffdcb7a38400db5e324000c44ea8d",
            "ed6839bc5ca84c6688b1ca3d89245133",
            "dc35e645da5947c585a109c5cc1edcc8",
            "44f605840f1b4554a20413ec736b0ff5",
            "7be367572fd046d0995f08feb19c7b16",
            "92c26b9f12bb4b65a989cda27697b05a",
            "48e379e2bbe44400bf838e924248f5c9",
            "0b9be10c52df4313a2196a83a449d319",
            "93949f12e0284ae9b1c140b5d6898d3b",
            "c8c20ca41aec4792bf8131ed13440550",
            "3fc6346d78ef4e9f890a18f321fbfc80",
            "42e82b6e03354adfb0c533f8585d71cd",
            "0238dbeed6404f5ca2e4c61b29ac963d",
            "08e654f8ac8341209b2535c572dd74b5",
            "6ca9f9abb4e048848edcaa1246572d23",
            "9d11a5e066754abe9dd9ce3593ae882c",
            "5b3777b092234fd9b80c4d99ca6b3c81",
            "d8bf452b53ee49e8b95767ffe97c01d9",
            "07ef8572e32c492cbf410c41fd0a4832",
            "d24beb5269a146a6b8843de2f4e657ff",
            "aeab296280a8429385113f4e8fbfbec2",
            "0291fbab1df34b93b9b9a910d0e88636",
            "b4af2fdfa32d48da92a2bc1d2c855155",
            "ed8d5cde0a394a15b1aa097cc329fc33",
            "318dda2e07b5463ea7a278a34378f04f",
            "bb401b7a490247ee96ff377692217685",
            "b2c5672ef2d0421b883c9130f4abdf68",
            "0c042b0f121d42dc9a2b2b3af1bcdbf8",
            "9e283bb75a6f40458a999732aee1ae59",
            "47d31af42dda4809813e39172ffdd76c",
            "9ddcb27f29a84a2fbf042f2f87072fa8",
            "688fffed33294dd694081e4ebfc88a40",
            "6fd945c88396428793f41705c88f20aa",
            "cec56722cb4d4bdab4dfce2df2c6c1a5",
            "1d1c5cc0b6094fbca376066146a62007",
            "84b943417165424aa3f4b38ca7890837",
            "d5572ca81282494181c34af4fa1458ee",
            "f907ff4e6ad2432fb436be906e1d6700"
          ]
        },
        "id": "CQco8KHsLsoE",
        "outputId": "639aa082-8583-4230-9bae-6952a53a027d"
      },
      "outputs": [
        {
          "data": {
            "application/vnd.jupyter.widget-view+json": {
              "model_id": "e23828fe77b7429296bdd717c54265bb",
              "version_major": 2,
              "version_minor": 0
            },
            "text/plain": [
              "tokenizer_config.json: 0.00B [00:00, ?B/s]"
            ]
          },
          "metadata": {},
          "output_type": "display_data"
        },
        {
          "name": "stderr",
          "output_type": "stream",
          "text": [
            "/usr/local/lib/python3.11/dist-packages/huggingface_hub/utils/_auth.py:94: UserWarning: \n",
            "The secret `HF_TOKEN` does not exist in your Colab secrets.\n",
            "To authenticate with the Hugging Face Hub, create a token in your settings tab (https://huggingface.co/settings/tokens), set it as secret in your Google Colab and restart your session.\n",
            "You will be able to reuse this secret in all of your notebooks.\n",
            "Please note that authentication is recommended but still optional to access public models or datasets.\n",
            "  warnings.warn(\n"
          ]
        },
        {
          "data": {
            "application/vnd.jupyter.widget-view+json": {
              "model_id": "b2c8b13ec5be4fa496937eaaf3871cb3",
              "version_major": 2,
              "version_minor": 0
            },
            "text/plain": [
              "tokenizer.json: 0.00B [00:00, ?B/s]"
            ]
          },
          "metadata": {},
          "output_type": "display_data"
        },
        {
          "data": {
            "application/vnd.jupyter.widget-view+json": {
              "model_id": "1a486a011e0740b0b728049619ad7f03",
              "version_major": 2,
              "version_minor": 0
            },
            "text/plain": [
              "special_tokens_map.json:   0%|          | 0.00/281 [00:00<?, ?B/s]"
            ]
          },
          "metadata": {},
          "output_type": "display_data"
        },
        {
          "data": {
            "application/vnd.jupyter.widget-view+json": {
              "model_id": "3692c5f87d434799ad7abdb4c96bdc74",
              "version_major": 2,
              "version_minor": 0
            },
            "text/plain": [
              "config.json: 0.00B [00:00, ?B/s]"
            ]
          },
          "metadata": {},
          "output_type": "display_data"
        },
        {
          "data": {
            "application/vnd.jupyter.widget-view+json": {
              "model_id": "b4894a85041f47dfb8cdb5767c0d2bb7",
              "version_major": 2,
              "version_minor": 0
            },
            "text/plain": [
              "model.safetensors.index.json: 0.00B [00:00, ?B/s]"
            ]
          },
          "metadata": {},
          "output_type": "display_data"
        },
        {
          "data": {
            "application/vnd.jupyter.widget-view+json": {
              "model_id": "d739756090334e49ab8bcd1ad9fad93a",
              "version_major": 2,
              "version_minor": 0
            },
            "text/plain": [
              "Fetching 2 files:   0%|          | 0/2 [00:00<?, ?it/s]"
            ]
          },
          "metadata": {},
          "output_type": "display_data"
        },
        {
          "data": {
            "application/vnd.jupyter.widget-view+json": {
              "model_id": "7a7cc21b49c248ae8b12235379531f5e",
              "version_major": 2,
              "version_minor": 0
            },
            "text/plain": [
              "model-00002-of-00002.safetensors:   0%|          | 0.00/4.48G [00:00<?, ?B/s]"
            ]
          },
          "metadata": {},
          "output_type": "display_data"
        },
        {
          "data": {
            "application/vnd.jupyter.widget-view+json": {
              "model_id": "92c26b9f12bb4b65a989cda27697b05a",
              "version_major": 2,
              "version_minor": 0
            },
            "text/plain": [
              "model-00001-of-00002.safetensors:   0%|          | 0.00/9.95G [00:00<?, ?B/s]"
            ]
          },
          "metadata": {},
          "output_type": "display_data"
        },
        {
          "data": {
            "application/vnd.jupyter.widget-view+json": {
              "model_id": "5b3777b092234fd9b80c4d99ca6b3c81",
              "version_major": 2,
              "version_minor": 0
            },
            "text/plain": [
              "Loading checkpoint shards:   0%|          | 0/2 [00:00<?, ?it/s]"
            ]
          },
          "metadata": {},
          "output_type": "display_data"
        },
        {
          "data": {
            "application/vnd.jupyter.widget-view+json": {
              "model_id": "0c042b0f121d42dc9a2b2b3af1bcdbf8",
              "version_major": 2,
              "version_minor": 0
            },
            "text/plain": [
              "generation_config.json:   0%|          | 0.00/117 [00:00<?, ?B/s]"
            ]
          },
          "metadata": {},
          "output_type": "display_data"
        },
        {
          "name": "stderr",
          "output_type": "stream",
          "text": [
            "Device set to use cuda:0\n",
            "/tmp/ipython-input-3-2952391938.py:28: LangChainDeprecationWarning: The class `HuggingFacePipeline` was deprecated in LangChain 0.0.37 and will be removed in 1.0. An updated version of the class exists in the :class:`~langchain-huggingface package and should be used instead. To use it run `pip install -U :class:`~langchain-huggingface` and import as `from :class:`~langchain_huggingface import HuggingFacePipeline``.\n",
            "  llm = HuggingFacePipeline(pipeline=pipe)\n"
          ]
        }
      ],
      "source": [
        "from transformers import AutoModelForCausalLM, AutoTokenizer, pipeline\n",
        "from langchain_community.llms import HuggingFacePipeline\n",
        "import torch\n",
        "\n",
        "# Define the model ID\n",
        "model_id = \"tiiuae/falcon-7b-instruct\"\n",
        "\n",
        "# Get your API token\n",
        "huggingface_api_token = userdata.get('HUGGINGFACE_API_KEY')\n",
        "\n",
        "# Load the tokenizer and model\n",
        "tokenizer = AutoTokenizer.from_pretrained(model_id, token=huggingface_api_token)\n",
        "model = AutoModelForCausalLM.from_pretrained(model_id, device_map=\"auto\", torch_dtype=torch.bfloat16, token=huggingface_api_token)\n",
        "\n",
        "# Create a text generation pipeline\n",
        "pipe = pipeline(\n",
        "    \"text-generation\",\n",
        "    model=model,\n",
        "    tokenizer=tokenizer,\n",
        "    max_new_tokens=256,\n",
        "    do_sample=True,\n",
        "    temperature=0.1, # Use temperature here as before\n",
        "    trust_remote_code=True,\n",
        "    device_map=\"auto\",\n",
        ")\n",
        "\n",
        "# Initialize the HuggingFace llm using the pipeline\n",
        "llm = HuggingFacePipeline(pipeline=pipe)"
      ]
    },
    {
      "cell_type": "markdown",
      "metadata": {
        "id": "YY_2RLpfHq5q"
      },
      "source": [
        "### Initialize Embedding Model"
      ]
    },
    {
      "cell_type": "markdown",
      "metadata": {
        "id": "YHF9sDROJOYA"
      },
      "source": [
        "Model url: https://sbert.net/"
      ]
    },
    {
      "cell_type": "code",
      "execution_count": null,
      "metadata": {
        "colab": {
          "base_uri": "https://localhost:8080/",
          "height": 425,
          "referenced_widgets": [
            "1645e05e689f476ea2d97f21475a4705",
            "7c4784c4e5f14e3e8540068091547288",
            "34e43efd042346dd8c46d416b49b968d",
            "2a62387200d04503841820f0288ada65",
            "fc70eda4a10f4afb9d79e51749b998a9",
            "a4b3ea4e96cf4c6b8b340f93a18e03b7",
            "510c2a886f5f44ce8e19b82b13d350f1",
            "13a97384c2ef4731ab8060b8bde68a52",
            "b0117e8172fc4f4dafb94bb9a5b0ef6e",
            "16eb4db1d30c473b8121634fcb9e46f5",
            "c1d79564496d4a168af733daf3f12739",
            "b0addc1dda1549358da3521efb18a905",
            "1064b19bf7314be98975166c7bb6cd19",
            "6867adfd13dd4246ab3841d11cfae568",
            "38130a295a8e41f993d7348788d6f862",
            "9f7650fe026f40a1b859b2d6f2a1e9f0",
            "0d5f38722ecd4a359d72c5d96806747b",
            "a79807acc663426b95cf4baa9c358674",
            "019bcd1507914f4fb650b9c2cb2d13c6",
            "5a0354645d39481a94b5ca8a5806b2ee",
            "f87696e59f3841faaa0394356cf74b12",
            "7182222a70a84e5e93fa24e363a753c5",
            "3145454de83b40ac89135e0452b4f170",
            "c8212ddab75e4a7db91f5891dcbfcd7a",
            "9975298019044d308b447b7994418b00",
            "e251df87df7e4ab88ebf3c3a4c79ab74",
            "27c680ec380244c9bceaebd9074e6728",
            "3bc563d93b374ce3abc1bade28228492",
            "aa9dbb3830a541e78450d5cce1c21ef5",
            "ac09436f9188439ea9b4a7ecab6a1f9d",
            "7c5d18b288824815988f4ca8c5aae934",
            "eda5c07bc1784ea89ed2e18f1229516a",
            "814bb713284d4701a56aa30650b6fc28",
            "b718f731d08249349979b47a54bf26a7",
            "6e8337365bd94b91a889e7b91fea0692",
            "22649e92842d42a08bc9a3dffa761c68",
            "fc48789485e64077bbe85a1c452c98a1",
            "f4b2c0dd674844b6a8349ca9a401e50f",
            "935eb6aefec043be809859ccd63babd0",
            "5e97df36355b4b1aae4cacbb0582547e",
            "a8e0506b8ae841a7a88ee0236f39fbd8",
            "37e517fcf89b48deafc43715a5a5db8b",
            "738e6a1f3ccd4f36bfc8152a975aa0a7",
            "33777eda550b48b9bb41add2f1c03e83",
            "2c132cd5c01c4795911a47992ccc74fd",
            "191d7c5d62da48c5af11b1546ec3cc3d",
            "a38da3e4b288401a825d0bc91cbe0818",
            "7bd1f947caca416db2cc7ffe31cfbfb1",
            "9965c5bf2d33470db9c7b264784908ce",
            "94505888c2544538818b6f8fdd0c7e1d",
            "2e223207e2a34040b1ef0ddeb5526cd6",
            "dfa8d5e051b043258b2b0c9c70c49680",
            "11ad4e9ce9104471b6060eafd647b878",
            "5274ff848f4542e6a4f4b79081b825e1",
            "8eaf0e7268f54b74b0ac123af2e03425",
            "5ab40f6d20d8460088f574cbda9b68d1",
            "5c2f5e84475d43648725addcb0940ecf",
            "ca9f63a8e4c64c6e92afaea7ea0fb017",
            "d898cf860a3d46668b2949169b9c39f2",
            "051380b6873d491a81112d08f866e479",
            "11ec2210e5844793902d271f969060b3",
            "41df8e62484941c289420c8f5343978f",
            "1a98b83a4287404b9fa12a484801c9fa",
            "69a435b862e94bc9811f6d9bfeb32a07",
            "15a734ff095a46a5ab4f13fa41115fab",
            "36055a81cf774cce9b2d0ac6684fa1ae",
            "6c017ac542b745f898e6acec3f93b274",
            "9abcc60a686d4f44b0f3db9b2dac1b85",
            "1d4bc5efe28b4b5197b90c3d51cbadba",
            "f81d592507d14b459f5c8e2dc9fd72d5",
            "323dbaa7522a477ea3227cdbb6f91de1",
            "e62e40021f4b4bedbf39c99d6cdb8051",
            "52c53eed8a6044478dcba14f9cadd286",
            "eb5d7f9c5d55451cb3c4fda162a41431",
            "75169405a01945ab839e7992a91bdc9e",
            "e79197cd4a764408b815e3791474a8f3",
            "e1a86ce9af1a4e9b9fa22cceb2621fc9",
            "d5dc34bfe2124cbd8eb789a629a90540",
            "209cc1ce75b44943b670b30b3792f41b",
            "3fdde52c378b4311b39386070a96bcd3",
            "6a29145822654e0ba2fae5bfd0592b7f",
            "da2f9fc0666a4fc0916cc8398b85e625",
            "bf9943f432204d73a46e5e3c7f16361e",
            "224cc258fc3846318c9f81172cdbbf9b",
            "869570c249f84604a4eabdf71a4fc472",
            "67f3fcf29347418d9d61f10207794d84",
            "5b44b2a1d4f04952897818fd61fdeef0",
            "539067efbe5540eab0326e851b908954",
            "a74683cc5f734f1a92ce3381efec7e1b",
            "3f92a1b3525d456882f9b3ddb6264c81",
            "131645dd070046dcb1fff7b0b0988602",
            "c735a5a769ac4612b433d888897ae59f",
            "66e38c9b94a1426cb1c45762b16b266d",
            "639088feca0244e58e999ab7c5a95163",
            "86620181ffa54515bf5747042c1dc7f7",
            "a0e1742332c844f3a3e8de97a2270210",
            "868f7b10a244440b8f4986e67ab0c9bf",
            "a1b16c1078b54d0d930fa45258ccac95",
            "a5ae28b3d5a54e339a1c3e4b31220ed8",
            "61ce1eacaf1b49ff9fe74c3cef680ad8",
            "c07a509b9eae45d39949a18853f3ce29",
            "d899e2b5d3e74fa0b12bc2898e355111",
            "7e371ab1285e47ccad26c8c16a4a156b",
            "d21655cf96f54ad19498c5cd87967758",
            "63062717cdd945e0a7fc3aeb27e4cc17",
            "c8abab9e0df24134a61412466e784e99",
            "23686d3ba3cb4d65ba4a51ca6a2b39e0",
            "b5ae874af2ef4bcbbd39016eb2002c53",
            "e24da0e876384ddd8674f1986fa4d276",
            "a84490ab8fff47fd8388404cadd66f06",
            "5100b330170047ef99c5309aa7f02bcd",
            "81d9900efc044c99a17934d51c336368",
            "12b868b9aa5a408295bd8dcde75ed593",
            "350009335bb04848b0e31cb5a0a9dc11",
            "7099707cb98e44f38d1e993648e91498",
            "4445502a709b47fea89f34f4834999af",
            "cce1f10b916c462cba75fa61e6c9f887",
            "14085115b13d4978a262dd2e1bb86605",
            "9a35ab3c28534aa0aa269c90d2ae3604",
            "b4a351e7eef44517be0b3d486fffdf8f",
            "ad3c156810264367801ff25fd879f9da"
          ]
        },
        "id": "v5VIj7wtD85u",
        "outputId": "0800330b-0250-457e-a0bc-afab44980fce"
      },
      "outputs": [
        {
          "name": "stderr",
          "output_type": "stream",
          "text": [
            "/tmp/ipython-input-4-1742308964.py:3: LangChainDeprecationWarning: The class `HuggingFaceEmbeddings` was deprecated in LangChain 0.2.2 and will be removed in 1.0. An updated version of the class exists in the :class:`~langchain-huggingface package and should be used instead. To use it run `pip install -U :class:`~langchain-huggingface` and import as `from :class:`~langchain_huggingface import HuggingFaceEmbeddings``.\n",
            "  embedding_model = HuggingFaceEmbeddings(\n"
          ]
        },
        {
          "data": {
            "application/vnd.jupyter.widget-view+json": {
              "model_id": "1645e05e689f476ea2d97f21475a4705",
              "version_major": 2,
              "version_minor": 0
            },
            "text/plain": [
              "modules.json:   0%|          | 0.00/349 [00:00<?, ?B/s]"
            ]
          },
          "metadata": {},
          "output_type": "display_data"
        },
        {
          "data": {
            "application/vnd.jupyter.widget-view+json": {
              "model_id": "b0addc1dda1549358da3521efb18a905",
              "version_major": 2,
              "version_minor": 0
            },
            "text/plain": [
              "config_sentence_transformers.json:   0%|          | 0.00/116 [00:00<?, ?B/s]"
            ]
          },
          "metadata": {},
          "output_type": "display_data"
        },
        {
          "data": {
            "application/vnd.jupyter.widget-view+json": {
              "model_id": "3145454de83b40ac89135e0452b4f170",
              "version_major": 2,
              "version_minor": 0
            },
            "text/plain": [
              "README.md: 0.00B [00:00, ?B/s]"
            ]
          },
          "metadata": {},
          "output_type": "display_data"
        },
        {
          "data": {
            "application/vnd.jupyter.widget-view+json": {
              "model_id": "b718f731d08249349979b47a54bf26a7",
              "version_major": 2,
              "version_minor": 0
            },
            "text/plain": [
              "sentence_bert_config.json:   0%|          | 0.00/53.0 [00:00<?, ?B/s]"
            ]
          },
          "metadata": {},
          "output_type": "display_data"
        },
        {
          "data": {
            "application/vnd.jupyter.widget-view+json": {
              "model_id": "2c132cd5c01c4795911a47992ccc74fd",
              "version_major": 2,
              "version_minor": 0
            },
            "text/plain": [
              "config.json:   0%|          | 0.00/571 [00:00<?, ?B/s]"
            ]
          },
          "metadata": {},
          "output_type": "display_data"
        },
        {
          "data": {
            "application/vnd.jupyter.widget-view+json": {
              "model_id": "5ab40f6d20d8460088f574cbda9b68d1",
              "version_major": 2,
              "version_minor": 0
            },
            "text/plain": [
              "model.safetensors:   0%|          | 0.00/438M [00:00<?, ?B/s]"
            ]
          },
          "metadata": {},
          "output_type": "display_data"
        },
        {
          "data": {
            "application/vnd.jupyter.widget-view+json": {
              "model_id": "6c017ac542b745f898e6acec3f93b274",
              "version_major": 2,
              "version_minor": 0
            },
            "text/plain": [
              "tokenizer_config.json:   0%|          | 0.00/363 [00:00<?, ?B/s]"
            ]
          },
          "metadata": {},
          "output_type": "display_data"
        },
        {
          "data": {
            "application/vnd.jupyter.widget-view+json": {
              "model_id": "d5dc34bfe2124cbd8eb789a629a90540",
              "version_major": 2,
              "version_minor": 0
            },
            "text/plain": [
              "vocab.txt: 0.00B [00:00, ?B/s]"
            ]
          },
          "metadata": {},
          "output_type": "display_data"
        },
        {
          "data": {
            "application/vnd.jupyter.widget-view+json": {
              "model_id": "a74683cc5f734f1a92ce3381efec7e1b",
              "version_major": 2,
              "version_minor": 0
            },
            "text/plain": [
              "tokenizer.json: 0.00B [00:00, ?B/s]"
            ]
          },
          "metadata": {},
          "output_type": "display_data"
        },
        {
          "data": {
            "application/vnd.jupyter.widget-view+json": {
              "model_id": "61ce1eacaf1b49ff9fe74c3cef680ad8",
              "version_major": 2,
              "version_minor": 0
            },
            "text/plain": [
              "special_tokens_map.json:   0%|          | 0.00/239 [00:00<?, ?B/s]"
            ]
          },
          "metadata": {},
          "output_type": "display_data"
        },
        {
          "data": {
            "application/vnd.jupyter.widget-view+json": {
              "model_id": "5100b330170047ef99c5309aa7f02bcd",
              "version_major": 2,
              "version_minor": 0
            },
            "text/plain": [
              "config.json:   0%|          | 0.00/190 [00:00<?, ?B/s]"
            ]
          },
          "metadata": {},
          "output_type": "display_data"
        }
      ],
      "source": [
        "from langchain.embeddings import HuggingFaceEmbeddings\n",
        "\n",
        "embedding_model = HuggingFaceEmbeddings(\n",
        "  model_name=\"sentence-transformers/all-mpnet-base-v2\"\n",
        ")"
      ]
    },
    {
      "cell_type": "markdown",
      "metadata": {
        "id": "uIowHT1AIk6g"
      },
      "source": [
        "### Initialize Output Parser"
      ]
    },
    {
      "cell_type": "code",
      "execution_count": null,
      "metadata": {
        "id": "ph6yJRAeI3Dg"
      },
      "outputs": [],
      "source": [
        "from langchain.schema.output_parser import StrOutputParser\n",
        "\n",
        "output_parser=StrOutputParser()"
      ]
    },
    {
      "cell_type": "markdown",
      "metadata": {
        "id": "MLPtLHuaHyDh"
      },
      "source": [
        "### Load PDF Document"
      ]
    },
    {
      "cell_type": "code",
      "execution_count": null,
      "metadata": {
        "id": "FtE4Pcb_ElWT"
      },
      "outputs": [],
      "source": [
        "!pip install pypdf -qU"
      ]
    },
    {
      "cell_type": "code",
      "execution_count": null,
      "metadata": {
        "id": "wj8NjIe9ElTX"
      },
      "outputs": [],
      "source": [
        "from langchain_community.document_loaders import PyPDFLoader\n",
        "\n",
        "# Load the PDF document\n",
        "loader = PyPDFLoader(\"/content/Solar_Panel_Faults_Extended_Cleaned.pdf\")\n",
        "\n",
        "docs = loader.load()"
      ]
    },
    {
      "cell_type": "code",
      "execution_count": null,
      "metadata": {
        "colab": {
          "base_uri": "https://localhost:8080/"
        },
        "id": "2JaKCnaeElQQ",
        "outputId": "2f949818-5a3c-45c2-fcb9-e0e67d797733"
      },
      "outputs": [
        {
          "data": {
            "text/plain": [
              "4"
            ]
          },
          "execution_count": 7,
          "metadata": {},
          "output_type": "execute_result"
        }
      ],
      "source": [
        "len(docs)"
      ]
    },
    {
      "cell_type": "code",
      "execution_count": null,
      "metadata": {
        "colab": {
          "base_uri": "https://localhost:8080/"
        },
        "id": "MUpL3Z7BElNH",
        "outputId": "ee0f82e5-83d8-4b03-f8c0-3aed9f5065ce"
      },
      "outputs": [
        {
          "data": {
            "text/plain": [
              "Document(metadata={'producer': 'PyFPDF 1.7.2 http://pyfpdf.googlecode.com/', 'creator': 'PyPDF', 'creationdate': 'D:20250704030500', 'source': '/content/Solar_Panel_Faults_Extended_Cleaned.pdf', 'total_pages': 4, 'page': 0, 'page_label': '1'}, page_content=\"Comprehensive Report on Solar Panel Faults\\nIntroduction: What are Solar Panel Faults?\\nSolar panel faults refer to any abnormal conditions that interfere with the normal generation of electrical\\npower from photovoltaic (PV) modules. These faults can cause a reduction in energy output, compromise the\\nsystem's safety, and in some cases, lead to permanent damage to the solar array or connected systems.\\nSolar panels, though designed for durability and long service, can still fail due to factors like weather, material\\ndegradation, poor installation, and manufacturing defects. Understanding solar panel faults is critical for\\neffective system design, preventive maintenance, fault detection, and long-term operational efficiency.\\nTypes of Solar Panel Faults\\nSolar panel faults can be classified into several types, each affecting performance in different ways.\\n1. Open Circuit Faults - These faults occur when electrical continuity is broken, commonly due to\\ndisconnected wires, broken solder joints, or corroded terminals. When an open circuit fault occurs, part or all\\nof the current path is lost, leading to no or low power output from the affected panel or string.\\n2. Short Circuit Faults - A short circuit occurs when there is an unintended direct connection between the\\npositive and negative terminals. This can result in excessive current flow, which may cause localized heating,\\ndamage to the panel's internal components, or even fire hazards.\\n3. Hot Spots - Hot spots develop in localized regions of a panel where current continues to flow through a\\npartially shaded or damaged cell. These regions can reach dangerously high temperatures, which can cause\\ncell degradation, glass breakage, and even fire. Hot spots are often caused by shading, bird droppings, or\\ninternal defects.\\n4. Potential Induced Degradation (PID) - PID is a long-term degradation mechanism caused by high voltage\\npotential differences between the solar cells and the grounded frame. This condition causes leakage\\ncurrents, leading to significant power loss. It is common in systems with unbalanced voltages or in humid\\nenvironments.\\n5. Delamination - This fault involves the separation of the layers of the panel, particularly the encapsulant and\\nglass or backsheet. Moisture ingress due to delamination can damage the internal circuitry, leading to\\ncorrosion and insulation failure.\")"
            ]
          },
          "execution_count": 8,
          "metadata": {},
          "output_type": "execute_result"
        }
      ],
      "source": [
        "docs[0]"
      ]
    },
    {
      "cell_type": "markdown",
      "metadata": {
        "id": "7K9dWgI7H2fA"
      },
      "source": [
        "### Split Documents into Chunks"
      ]
    },
    {
      "cell_type": "code",
      "execution_count": null,
      "metadata": {
        "id": "qu4Ol5uEElKD"
      },
      "outputs": [],
      "source": [
        "from langchain_text_splitters import RecursiveCharacterTextSplitter\n",
        "\n",
        "# Initialize the text splitter\n",
        "text_splitter = RecursiveCharacterTextSplitter(chunk_size=400, chunk_overlap=50)\n",
        "\n",
        "# Split the documents into chunks\n",
        "splits = text_splitter.split_documents(docs)"
      ]
    },
    {
      "cell_type": "code",
      "execution_count": null,
      "metadata": {
        "colab": {
          "base_uri": "https://localhost:8080/"
        },
        "id": "OnX6N-TfE2x0",
        "outputId": "3999a988-62d7-43bc-d347-865f7d4ddae4"
      },
      "outputs": [
        {
          "data": {
            "text/plain": [
              "25"
            ]
          },
          "execution_count": 10,
          "metadata": {},
          "output_type": "execute_result"
        }
      ],
      "source": [
        "#number of chunks\n",
        "len(splits)"
      ]
    },
    {
      "cell_type": "code",
      "execution_count": null,
      "metadata": {
        "colab": {
          "base_uri": "https://localhost:8080/"
        },
        "id": "AelGC3MNTxNv",
        "outputId": "56cb5412-2f18-447d-e41e-8246f5be5243"
      },
      "outputs": [
        {
          "data": {
            "text/plain": [
              "Document(metadata={'producer': 'PyFPDF 1.7.2 http://pyfpdf.googlecode.com/', 'creator': 'PyPDF', 'creationdate': 'D:20250704030500', 'source': '/content/Solar_Panel_Faults_Extended_Cleaned.pdf', 'total_pages': 4, 'page': 0, 'page_label': '1'}, page_content='Comprehensive Report on Solar Panel Faults\\nIntroduction: What are Solar Panel Faults?\\nSolar panel faults refer to any abnormal conditions that interfere with the normal generation of electrical\\npower from photovoltaic (PV) modules. These faults can cause a reduction in energy output, compromise the')"
            ]
          },
          "execution_count": 11,
          "metadata": {},
          "output_type": "execute_result"
        }
      ],
      "source": [
        "splits[0]"
      ]
    },
    {
      "cell_type": "markdown",
      "metadata": {
        "id": "8QXX_0zdH7qw"
      },
      "source": [
        "### Create Vector Store and Retriever"
      ]
    },
    {
      "cell_type": "code",
      "execution_count": null,
      "metadata": {
        "id": "5N_28g2TElG7"
      },
      "outputs": [],
      "source": [
        "from langchain_chroma import Chroma\n",
        "\n",
        "# Create a vector store from the document chunks\n",
        "vectorstore = Chroma.from_documents(documents=splits, embedding=embedding_model)\n",
        "vectorstore_retriever = vectorstore.as_retriever(search_kwargs={\"k\": 3})  # then rerank top 3"
      ]
    },
    {
      "cell_type": "code",
      "execution_count": null,
      "metadata": {
        "colab": {
          "base_uri": "https://localhost:8080/"
        },
        "id": "BQLZx07vjWMQ",
        "outputId": "4e2be8f7-792c-472e-ce5f-937228879736"
      },
      "outputs": [
        {
          "data": {
            "text/plain": [
              "VectorStoreRetriever(tags=['Chroma', 'HuggingFaceEmbeddings'], vectorstore=<langchain_chroma.vectorstores.Chroma object at 0x7823ab48d910>, search_kwargs={'k': 3})"
            ]
          },
          "execution_count": 13,
          "metadata": {},
          "output_type": "execute_result"
        }
      ],
      "source": [
        "vectorstore_retriever"
      ]
    },
    {
      "cell_type": "markdown",
      "metadata": {
        "id": "c6SEtNk0jJLw"
      },
      "source": [
        "## For more effectiveness create Hybrid search system"
      ]
    },
    {
      "cell_type": "markdown",
      "metadata": {
        "id": "Vs5My2ywjdSK"
      },
      "source": [
        "Create Keyword search retriever"
      ]
    },
    {
      "cell_type": "code",
      "execution_count": null,
      "metadata": {
        "id": "9xNeI8aZjrrY"
      },
      "outputs": [],
      "source": [
        "from langchain.retrievers import BM25Retriever\n",
        "\n",
        "keyword_retriever = BM25Retriever.from_documents(splits)\n",
        "\n",
        "keyword_retriever.k =  3"
      ]
    },
    {
      "cell_type": "code",
      "execution_count": null,
      "metadata": {
        "colab": {
          "base_uri": "https://localhost:8080/"
        },
        "id": "5waaDmpvj5y6",
        "outputId": "09f28416-e329-440b-fe1e-72a2e9111a8c"
      },
      "outputs": [
        {
          "data": {
            "text/plain": [
              "BM25Retriever(vectorizer=<rank_bm25.BM25Okapi object at 0x78270c39a710>, k=3)"
            ]
          },
          "execution_count": 15,
          "metadata": {},
          "output_type": "execute_result"
        }
      ],
      "source": [
        "keyword_retriever"
      ]
    },
    {
      "cell_type": "markdown",
      "metadata": {
        "id": "6r3WEiPPj8lU"
      },
      "source": [
        "###Create Hybrid Search Retriever"
      ]
    },
    {
      "cell_type": "code",
      "execution_count": null,
      "metadata": {
        "id": "9TVcLt52kCjQ"
      },
      "outputs": [],
      "source": [
        "from langchain.retrievers import EnsembleRetriever\n",
        "\n",
        "ensemble_retriever = EnsembleRetriever(retrievers = [vectorstore_retriever, keyword_retriever], weights = [0.5, 0.5])"
      ]
    },
    {
      "cell_type": "code",
      "execution_count": null,
      "metadata": {
        "colab": {
          "base_uri": "https://localhost:8080/"
        },
        "id": "GgrYWpwRkSxN",
        "outputId": "ff05e436-8540-4257-c6bf-8d81b54f65d5"
      },
      "outputs": [
        {
          "data": {
            "text/plain": [
              "EnsembleRetriever(retrievers=[VectorStoreRetriever(tags=['Chroma', 'HuggingFaceEmbeddings'], vectorstore=<langchain_chroma.vectorstores.Chroma object at 0x7823ab48d910>, search_kwargs={'k': 3}), BM25Retriever(vectorizer=<rank_bm25.BM25Okapi object at 0x78270c39a710>, k=3)], weights=[0.5, 0.5])"
            ]
          },
          "execution_count": 17,
          "metadata": {},
          "output_type": "execute_result"
        }
      ],
      "source": [
        "ensemble_retriever"
      ]
    },
    {
      "cell_type": "markdown",
      "metadata": {
        "id": "PeZ-Mdj1ICp4"
      },
      "source": [
        "### Define Prompt Template"
      ]
    },
    {
      "cell_type": "markdown",
      "metadata": {
        "id": "qcvvDoaDmzn4"
      },
      "source": [
        "Try to develop the prompt"
      ]
    },
    {
      "cell_type": "code",
      "execution_count": null,
      "metadata": {
        "id": "YPIO8jBdmxKW"
      },
      "outputs": [],
      "source": [
        "from langchain.prompts import ChatPromptTemplate\n",
        "\n",
        "template = \"\"\"\n",
        "You are a helpful assistant. Use the provided context below to answer the question.\n",
        "Only include information that appears in the context. If the answer is not found, say:\n",
        "\"I could not find the answer in the provided document.\"\n",
        "\n",
        "Question:\n",
        "{query}\n",
        "\n",
        "Context:\n",
        "{context}\n",
        "\n",
        "Answer:\n",
        "\"\"\"\n",
        "prompt = ChatPromptTemplate.from_template(template)\n"
      ]
    },
    {
      "cell_type": "code",
      "execution_count": null,
      "metadata": {
        "colab": {
          "base_uri": "https://localhost:8080/"
        },
        "id": "TrDIRXFXEk7D",
        "outputId": "6e4e720b-2366-4d53-f88d-e5ab1f417d10"
      },
      "outputs": [
        {
          "data": {
            "text/plain": [
              "ChatPromptTemplate(input_variables=['context', 'query'], input_types={}, partial_variables={}, messages=[HumanMessagePromptTemplate(prompt=PromptTemplate(input_variables=['context', 'query'], input_types={}, partial_variables={}, template='\\nYou are a helpful assistant. Use the provided context below to answer the question.\\nOnly include information that appears in the context. If the answer is not found, say:\\n\"I could not find the answer in the provided document.\"\\n\\nQuestion:\\n{query}\\n\\nContext:\\n{context}\\n\\nAnswer:\\n'), additional_kwargs={})])"
            ]
          },
          "execution_count": 19,
          "metadata": {},
          "output_type": "execute_result"
        }
      ],
      "source": [
        "prompt"
      ]
    },
    {
      "cell_type": "markdown",
      "metadata": {
        "id": "7DuaAR7YIUvo"
      },
      "source": [
        "### Chain Retriever and Prompt Template with LLM"
      ]
    },
    {
      "cell_type": "markdown",
      "metadata": {
        "id": "jdJTGARNpGCy"
      },
      "source": [
        "Create RAG Chain with Hybrid Search"
      ]
    },
    {
      "cell_type": "code",
      "execution_count": null,
      "metadata": {
        "id": "mQZSCVSmpDeg"
      },
      "outputs": [],
      "source": [
        "from langchain.schema.runnable import RunnablePassthrough\n",
        "chain = (\n",
        "    {\n",
        "      \"context\": ensemble_retriever,\n",
        "      \"query\": RunnablePassthrough()\n",
        "    }\n",
        "    | prompt\n",
        "    | llm\n",
        "    | output_parser\n",
        ")"
      ]
    },
    {
      "cell_type": "markdown",
      "metadata": {
        "id": "AvP5N4nuIIwQ"
      },
      "source": [
        "#### Invoke RAG Chain with Example Questions"
      ]
    },
    {
      "cell_type": "code",
      "execution_count": null,
      "metadata": {
        "colab": {
          "base_uri": "https://localhost:8080/"
        },
        "id": "T91ak6UObYgE",
        "outputId": "4f53f63c-4415-477e-bb54-0478e4c8513c"
      },
      "outputs": [
        {
          "name": "stderr",
          "output_type": "stream",
          "text": [
            "Setting `pad_token_id` to `eos_token_id`:11 for open-end generation.\n"
          ]
        },
        {
          "name": "stdout",
          "output_type": "stream",
          "text": [
            "Human: \n",
            "You are a helpful assistant. Use the provided context below to answer the question.\n",
            "Only include information that appears in the context. If the answer is not found, say:\n",
            "\"I could not find the answer in the provided document.\"\n",
            "\n",
            "Question:\n",
            "What are the types of faults in solar panels ?\n",
            "\n",
            "Context:\n",
            "[Document(id='c012666d-7817-4dbc-b09a-63a14c7ec620', metadata={'source': '/content/Solar_Panel_Faults_Extended_Cleaned.pdf', 'producer': 'PyFPDF 1.7.2 http://pyfpdf.googlecode.com/', 'total_pages': 4, 'page': 0, 'creator': 'PyPDF', 'page_label': '1', 'creationdate': 'D:20250704030500'}, page_content='Comprehensive Report on Solar Panel Faults\\nIntroduction: What are Solar Panel Faults?\\nSolar panel faults refer to any abnormal conditions that interfere with the normal generation of electrical\\npower from photovoltaic (PV) modules. These faults can cause a reduction in energy output, compromise the'), Document(id='463aa14a-73cf-4a72-9bef-d3ae3733e7e6', metadata={'creator': 'PyPDF', 'total_pages': 4, 'page_label': '1', 'page': 0, 'creationdate': 'D:20250704030500', 'producer': 'PyFPDF 1.7.2 http://pyfpdf.googlecode.com/', 'source': '/content/Solar_Panel_Faults_Extended_Cleaned.pdf'}, page_content='effective system design, preventive maintenance, fault detection, and long-term operational efficiency.\\nTypes of Solar Panel Faults\\nSolar panel faults can be classified into several types, each affecting performance in different ways.\\n1. Open Circuit Faults - These faults occur when electrical continuity is broken, commonly due to'), Document(metadata={'producer': 'PyFPDF 1.7.2 http://pyfpdf.googlecode.com/', 'creator': 'PyPDF', 'creationdate': 'D:20250704030500', 'source': '/content/Solar_Panel_Faults_Extended_Cleaned.pdf', 'total_pages': 4, 'page': 3, 'page_label': '4'}, page_content='understanding the types of faults, their causes, detection techniques, and preventive measures, stakeholders\\ncan enhance system performance, minimize downtime, and extend asset life. Investing in proper installation,\\nperiodic inspection, and advanced monitoring technologies is key to a reliable and cost-effective solar energy\\ninfrastructure.'), Document(id='6c38c500-eb73-4b5c-8555-0d9ced95186c', metadata={'creator': 'PyPDF', 'page_label': '1', 'total_pages': 4, 'producer': 'PyFPDF 1.7.2 http://pyfpdf.googlecode.com/', 'page': 0, 'source': '/content/Solar_Panel_Faults_Extended_Cleaned.pdf', 'creationdate': 'D:20250704030500'}, page_content=\"system's safety, and in some cases, lead to permanent damage to the solar array or connected systems.\\nSolar panels, though designed for durability and long service, can still fail due to factors like weather, material\\ndegradation, poor installation, and manufacturing defects. Understanding solar panel faults is critical for\"), Document(metadata={'producer': 'PyFPDF 1.7.2 http://pyfpdf.googlecode.com/', 'creator': 'PyPDF', 'creationdate': 'D:20250704030500', 'source': '/content/Solar_Panel_Faults_Extended_Cleaned.pdf', 'total_pages': 4, 'page': 3, 'page_label': '4'}, page_content='spots and reducing mismatch losses. Ensure that diodes are functional and appropriately rated.\\n5. Use of PID-Resistant Panels - Modern panels are available with PID-resistant technologies such as\\nimproved encapsulants and modified cell structures. Using such panels in PID-prone environments reduces\\nlong-term degradation.')]\n",
            "\n",
            "Answer:\n",
            "The types of faults in solar panels include open circuit faults, short circuit faults, and voltage drop faults.\n"
          ]
        }
      ],
      "source": [
        "response = chain.invoke(\"What are the types of faults in solar panels ?\")\n",
        "print(response)"
      ]
    },
    {
      "cell_type": "code",
      "execution_count": null,
      "metadata": {
        "colab": {
          "base_uri": "https://localhost:8080/"
        },
        "id": "e7MtUu4jVqZh",
        "outputId": "ebc9dd80-8925-45e7-91c1-71ca33c0c103"
      },
      "outputs": [
        {
          "name": "stderr",
          "output_type": "stream",
          "text": [
            "Setting `pad_token_id` to `eos_token_id`:11 for open-end generation.\n"
          ]
        },
        {
          "name": "stdout",
          "output_type": "stream",
          "text": [
            "Human: \n",
            "You are a helpful assistant. Use the provided context below to answer the question.\n",
            "Only include information that appears in the context. If the answer is not found, say:\n",
            "\"I could not find the answer in the provided document.\"\n",
            "\n",
            "Question:\n",
            "what are the reasons for faults in solar panels?\n",
            "\n",
            "Context:\n",
            "[Document(id='c012666d-7817-4dbc-b09a-63a14c7ec620', metadata={'page': 0, 'producer': 'PyFPDF 1.7.2 http://pyfpdf.googlecode.com/', 'page_label': '1', 'creator': 'PyPDF', 'creationdate': 'D:20250704030500', 'total_pages': 4, 'source': '/content/Solar_Panel_Faults_Extended_Cleaned.pdf'}, page_content='Comprehensive Report on Solar Panel Faults\\nIntroduction: What are Solar Panel Faults?\\nSolar panel faults refer to any abnormal conditions that interfere with the normal generation of electrical\\npower from photovoltaic (PV) modules. These faults can cause a reduction in energy output, compromise the'), Document(id='6c38c500-eb73-4b5c-8555-0d9ced95186c', metadata={'creationdate': 'D:20250704030500', 'producer': 'PyFPDF 1.7.2 http://pyfpdf.googlecode.com/', 'source': '/content/Solar_Panel_Faults_Extended_Cleaned.pdf', 'page': 0, 'page_label': '1', 'total_pages': 4, 'creator': 'PyPDF'}, page_content=\"system's safety, and in some cases, lead to permanent damage to the solar array or connected systems.\\nSolar panels, though designed for durability and long service, can still fail due to factors like weather, material\\ndegradation, poor installation, and manufacturing defects. Understanding solar panel faults is critical for\"), Document(id='8ad57dce-a557-4486-a568-8cdcc44cb235', metadata={'producer': 'PyFPDF 1.7.2 http://pyfpdf.googlecode.com/', 'page': 1, 'total_pages': 4, 'creationdate': 'D:20250704030500', 'creator': 'PyPDF', 'source': '/content/Solar_Panel_Faults_Extended_Cleaned.pdf', 'page_label': '2'}, page_content='of panels and block sunlight. Uneven soiling may cause mismatch losses and partial shading, leading to\\nreduced power generation and in some cases, hot spots.\\nCauses Behind Solar Panel Faults\\nThe underlying causes of solar panel faults can be broadly divided into five main categories:\\n1. Environmental Conditions - Extreme weather conditions such as hailstorms, high winds, heavy snow, and'), Document(metadata={'producer': 'PyFPDF 1.7.2 http://pyfpdf.googlecode.com/', 'creator': 'PyPDF', 'creationdate': 'D:20250704030500', 'source': '/content/Solar_Panel_Faults_Extended_Cleaned.pdf', 'total_pages': 4, 'page': 1, 'page_label': '2'}, page_content='Comprehensive Report on Solar Panel Faults\\n6. Microcracks in Cells - Microcracks are tiny fractures in the crystalline structure of the solar cells. These can\\nbe caused by mechanical stress during manufacturing, transportation, or installation. Over time, these cracks\\nmay grow, disrupting the electrical path and reducing efficiency.')]\n",
            "\n",
            "Answer:\n",
            "The reasons for faults in solar panels can be broadly divided into five main categories: environmental conditions, poor installation, material degradation, manufacturing defects, and microcracks in cells. Environmental conditions such as extreme weather conditions, hailstorms, heavy snow, and high winds can cause damage to solar panels. Poor installation can lead to improper alignment, incorrect wiring, or inadequate support structures. Material degradation can occur due to exposure to sunlight, temperature extremes, or physical damage. Manufacturing defects can result from incorrect assembly, defective components, or inadequate quality control. Microcracks in cells can be caused by mechanical stress during manufacturing, transportation, or installation, and can lead to reduced efficiency over time.\n"
          ]
        }
      ],
      "source": [
        "response = chain.invoke(\"what are the reasons for faults in solar panels?\")\n",
        "print(response)"
      ]
    },
    {
      "cell_type": "code",
      "execution_count": null,
      "metadata": {
        "colab": {
          "base_uri": "https://localhost:8080/"
        },
        "id": "djj0UYh8yaA5",
        "outputId": "4975851b-31a5-4799-c2a8-aebfa9b8d1e7"
      },
      "outputs": [
        {
          "name": "stderr",
          "output_type": "stream",
          "text": [
            "Setting `pad_token_id` to `eos_token_id`:11 for open-end generation.\n"
          ]
        },
        {
          "name": "stdout",
          "output_type": "stream",
          "text": [
            "Human: \n",
            "You are a helpful assistant. Use the provided context below to answer the question.\n",
            "Only include information that appears in the context. If the answer is not found, say:\n",
            "\"I could not find the answer in the provided document.\"\n",
            "\n",
            "Question:\n",
            "How to detect faults in solar panels?\n",
            "\n",
            "Context:\n",
            "[Document(id='c012666d-7817-4dbc-b09a-63a14c7ec620', metadata={'producer': 'PyFPDF 1.7.2 http://pyfpdf.googlecode.com/', 'total_pages': 4, 'page_label': '1', 'creationdate': 'D:20250704030500', 'source': '/content/Solar_Panel_Faults_Extended_Cleaned.pdf', 'page': 0, 'creator': 'PyPDF'}, page_content='Comprehensive Report on Solar Panel Faults\\nIntroduction: What are Solar Panel Faults?\\nSolar panel faults refer to any abnormal conditions that interfere with the normal generation of electrical\\npower from photovoltaic (PV) modules. These faults can cause a reduction in energy output, compromise the'), Document(id='b31dd12b-d50f-41e8-9af5-c0e681997610', metadata={'producer': 'PyFPDF 1.7.2 http://pyfpdf.googlecode.com/', 'source': '/content/Solar_Panel_Faults_Extended_Cleaned.pdf', 'page_label': '3', 'creationdate': 'D:20250704030500', 'page': 2, 'total_pages': 4, 'creator': 'PyPDF'}, page_content='Comprehensive Report on Solar Panel Faults\\ncurrents from batteries or inverters can cause electrical faults. These can burn out bypass diodes, damage\\ncell interconnections, and lead to short circuits.\\nFault Detection Techniques for Solar Panels\\nEfficient fault detection is crucial for minimizing downtime and maintenance costs. The following methods are\\ncommonly used:'), Document(metadata={'producer': 'PyFPDF 1.7.2 http://pyfpdf.googlecode.com/', 'creator': 'PyPDF', 'creationdate': 'D:20250704030500', 'source': '/content/Solar_Panel_Faults_Extended_Cleaned.pdf', 'total_pages': 4, 'page': 0, 'page_label': '1'}, page_content=\"system's safety, and in some cases, lead to permanent damage to the solar array or connected systems.\\nSolar panels, though designed for durability and long service, can still fail due to factors like weather, material\\ndegradation, poor installation, and manufacturing defects. Understanding solar panel faults is critical for\"), Document(metadata={'producer': 'PyFPDF 1.7.2 http://pyfpdf.googlecode.com/', 'creator': 'PyPDF', 'creationdate': 'D:20250704030500', 'source': '/content/Solar_Panel_Faults_Extended_Cleaned.pdf', 'total_pages': 4, 'page': 2, 'page_label': '3'}, page_content='commonly used:\\n1. Visual Inspection - This is the simplest method and involves physically inspecting the modules for cracks,\\nburn marks, discoloration, corrosion, or delamination. While it does not detect hidden faults, it is useful for\\nidentifying obvious damage.\\n2. Thermal Imaging - Infrared cameras are used to detect temperature anomalies on the panel surface. Hot'), Document(id='6c3d66c2-dbb4-452d-961b-40639559d1ec', metadata={'creator': 'PyPDF', 'producer': 'PyFPDF 1.7.2 http://pyfpdf.googlecode.com/', 'total_pages': 4, 'creationdate': 'D:20250704030500', 'page': 3, 'source': '/content/Solar_Panel_Faults_Extended_Cleaned.pdf', 'page_label': '4'}, page_content='Comprehensive Report on Solar Panel Faults\\n1. Routine Cleaning and Maintenance - Regular cleaning removes dust and debris, improving irradiance.\\nMaintenance schedules should include checking wiring, tightening connections, and ensuring grounding is\\nintact.\\n2. Proper Installation Techniques - Employ trained professionals for panel installation to ensure correct')]\n",
            "\n",
            "Answer:\n",
            "\n",
            "1. Visual Inspection: This method involves physically inspecting the modules for cracks, burn marks, discoloration, corrosion, or delamination. While it does not detect hidden faults, it is useful for identifying obvious damage.\n",
            "\n",
            "2. Thermal Imaging: Infrared cameras are used to detect temperature anomalies on the panel surface. Hot spots may indicate a fault, and the source of the heat can be identified by further investigation.\n",
            "\n",
            "3. Routine Cleaning and Maintenance: Regular cleaning removes dust and debris, improving irradiance. Maintenance schedules should include checking wiring, tightening connections, and ensuring grounding is intact.\n",
            "\n",
            "4. Proper Installation Techniques: Employ trained professionals for panel installation to ensure correct wiring and grounding.\n"
          ]
        }
      ],
      "source": [
        "response = chain.invoke(\"How to detect faults in solar panels?\")\n",
        "print(response)"
      ]
    },
    {
      "cell_type": "code",
      "execution_count": null,
      "metadata": {
        "colab": {
          "base_uri": "https://localhost:8080/"
        },
        "collapsed": true,
        "id": "UqPMwSz0oOpE",
        "outputId": "bf3127ae-88ae-469e-fd20-8054a50a3eb1"
      },
      "outputs": [
        {
          "name": "stderr",
          "output_type": "stream",
          "text": [
            "Setting `pad_token_id` to `eos_token_id`:11 for open-end generation.\n"
          ]
        },
        {
          "name": "stdout",
          "output_type": "stream",
          "text": [
            "Human: \n",
            "You are a helpful assistant. Use the provided context below to answer the question.\n",
            "Only include information that appears in the context. If the answer is not found, say:\n",
            "\"I could not find the answer in the provided document.\"\n",
            "\n",
            "Question:\n",
            "what are the environmental conditions causes for the solar panel faults\n",
            "\n",
            "Context:\n",
            "[Document(id='8ad57dce-a557-4486-a568-8cdcc44cb235', metadata={'page_label': '2', 'page': 1, 'producer': 'PyFPDF 1.7.2 http://pyfpdf.googlecode.com/', 'total_pages': 4, 'creationdate': 'D:20250704030500', 'creator': 'PyPDF', 'source': '/content/Solar_Panel_Faults_Extended_Cleaned.pdf'}, page_content='of panels and block sunlight. Uneven soiling may cause mismatch losses and partial shading, leading to\\nreduced power generation and in some cases, hot spots.\\nCauses Behind Solar Panel Faults\\nThe underlying causes of solar panel faults can be broadly divided into five main categories:\\n1. Environmental Conditions - Extreme weather conditions such as hailstorms, high winds, heavy snow, and'), Document(id='c012666d-7817-4dbc-b09a-63a14c7ec620', metadata={'source': '/content/Solar_Panel_Faults_Extended_Cleaned.pdf', 'creationdate': 'D:20250704030500', 'page': 0, 'creator': 'PyPDF', 'page_label': '1', 'total_pages': 4, 'producer': 'PyFPDF 1.7.2 http://pyfpdf.googlecode.com/'}, page_content='Comprehensive Report on Solar Panel Faults\\nIntroduction: What are Solar Panel Faults?\\nSolar panel faults refer to any abnormal conditions that interfere with the normal generation of electrical\\npower from photovoltaic (PV) modules. These faults can cause a reduction in energy output, compromise the'), Document(id='6c38c500-eb73-4b5c-8555-0d9ced95186c', metadata={'producer': 'PyFPDF 1.7.2 http://pyfpdf.googlecode.com/', 'creator': 'PyPDF', 'source': '/content/Solar_Panel_Faults_Extended_Cleaned.pdf', 'total_pages': 4, 'creationdate': 'D:20250704030500', 'page_label': '1', 'page': 0}, page_content=\"system's safety, and in some cases, lead to permanent damage to the solar array or connected systems.\\nSolar panels, though designed for durability and long service, can still fail due to factors like weather, material\\ndegradation, poor installation, and manufacturing defects. Understanding solar panel faults is critical for\"), Document(metadata={'producer': 'PyFPDF 1.7.2 http://pyfpdf.googlecode.com/', 'creator': 'PyPDF', 'creationdate': 'D:20250704030500', 'source': '/content/Solar_Panel_Faults_Extended_Cleaned.pdf', 'total_pages': 4, 'page': 0, 'page_label': '1'}, page_content='cell degradation, glass breakage, and even fire. Hot spots are often caused by shading, bird droppings, or\\ninternal defects.\\n4. Potential Induced Degradation (PID) - PID is a long-term degradation mechanism caused by high voltage\\npotential differences between the solar cells and the grounded frame. This condition causes leakage')]\n",
            "\n",
            "Answer:\n",
            "The environmental conditions that can cause solar panel faults are extreme weather conditions such as hailstorms, heavy winds, and high temperatures. These conditions can cause damage to the solar panels, leading to reduced power generation and in some cases, hot spots.\n"
          ]
        }
      ],
      "source": [
        "response = chain.invoke(\"what are the environmental conditions causes for the solar panel faults\")\n",
        "print(response)"
      ]
    },
    {
      "cell_type": "code",
      "execution_count": null,
      "metadata": {
        "colab": {
          "base_uri": "https://localhost:8080/"
        },
        "collapsed": true,
        "id": "VE8nhFnM8gIr",
        "outputId": "544d81db-9f5e-4868-d879-fbac91d91b08"
      },
      "outputs": [
        {
          "name": "stderr",
          "output_type": "stream",
          "text": [
            "Setting `pad_token_id` to `eos_token_id`:11 for open-end generation.\n"
          ]
        },
        {
          "name": "stdout",
          "output_type": "stream",
          "text": [
            "Human: \n",
            "You are a helpful assistant. Use the provided context below to answer the question.\n",
            "Only include information that appears in the context. If the answer is not found, say:\n",
            "\"I could not find the answer in the provided document.\"\n",
            "\n",
            "Question:\n",
            "Give summery about solar panel faults?\n",
            "\n",
            "Context:\n",
            "[Document(id='6c38c500-eb73-4b5c-8555-0d9ced95186c', metadata={'creationdate': 'D:20250704030500', 'total_pages': 4, 'creator': 'PyPDF', 'producer': 'PyFPDF 1.7.2 http://pyfpdf.googlecode.com/', 'source': '/content/Solar_Panel_Faults_Extended_Cleaned.pdf', 'page_label': '1', 'page': 0}, page_content=\"system's safety, and in some cases, lead to permanent damage to the solar array or connected systems.\\nSolar panels, though designed for durability and long service, can still fail due to factors like weather, material\\ndegradation, poor installation, and manufacturing defects. Understanding solar panel faults is critical for\"), Document(id='c012666d-7817-4dbc-b09a-63a14c7ec620', metadata={'creationdate': 'D:20250704030500', 'page': 0, 'total_pages': 4, 'creator': 'PyPDF', 'producer': 'PyFPDF 1.7.2 http://pyfpdf.googlecode.com/', 'page_label': '1', 'source': '/content/Solar_Panel_Faults_Extended_Cleaned.pdf'}, page_content='Comprehensive Report on Solar Panel Faults\\nIntroduction: What are Solar Panel Faults?\\nSolar panel faults refer to any abnormal conditions that interfere with the normal generation of electrical\\npower from photovoltaic (PV) modules. These faults can cause a reduction in energy output, compromise the'), Document(metadata={'producer': 'PyFPDF 1.7.2 http://pyfpdf.googlecode.com/', 'creator': 'PyPDF', 'creationdate': 'D:20250704030500', 'source': '/content/Solar_Panel_Faults_Extended_Cleaned.pdf', 'total_pages': 4, 'page': 1, 'page_label': '2'}, page_content='4. Aging and Wear - Solar panels naturally degrade over time, typically losing about 0.5-1% efficiency per\\nyear. Prolonged exposure to the environment results in yellowing of encapsulant, corrosion, and fatigue in\\ninterconnections.\\n5. Electrical Overstress and External Factors - Events such as lightning strikes, power surges, and reverse'), Document(id='6c3d66c2-dbb4-452d-961b-40639559d1ec', metadata={'producer': 'PyFPDF 1.7.2 http://pyfpdf.googlecode.com/', 'page_label': '4', 'page': 3, 'creator': 'PyPDF', 'source': '/content/Solar_Panel_Faults_Extended_Cleaned.pdf', 'total_pages': 4, 'creationdate': 'D:20250704030500'}, page_content='Comprehensive Report on Solar Panel Faults\\n1. Routine Cleaning and Maintenance - Regular cleaning removes dust and debris, improving irradiance.\\nMaintenance schedules should include checking wiring, tightening connections, and ensuring grounding is\\nintact.\\n2. Proper Installation Techniques - Employ trained professionals for panel installation to ensure correct'), Document(metadata={'producer': 'PyFPDF 1.7.2 http://pyfpdf.googlecode.com/', 'creator': 'PyPDF', 'creationdate': 'D:20250704030500', 'source': '/content/Solar_Panel_Faults_Extended_Cleaned.pdf', 'total_pages': 4, 'page': 2, 'page_label': '3'}, page_content='Solutions and Preventive Measures\\nTimely and appropriate solutions can restore solar panel performance and prevent long-term issues.')]\n",
            "\n",
            "Answer:\n",
            "\n",
            "Solar panel faults can be caused by a variety of factors, including material degradation, poor installation, and manufacturing defects. Some common symptoms of solar panel faults include reduced energy output, yellowing of encapsulant, corrosion, and fatigue in interconnections. Routine cleaning and maintenance can help to prevent and reduce solar panel faults. Proper installation techniques are also important to ensure correct functioning.\n"
          ]
        }
      ],
      "source": [
        "response = chain.invoke(\"Give summery about solar panel faults?\")\n",
        "print(response)"
      ]
    },
    {
      "cell_type": "markdown",
      "metadata": {
        "id": "Nhi532sm1StY"
      },
      "source": [
        "##Evaluation"
      ]
    },
    {
      "cell_type": "code",
      "execution_count": null,
      "metadata": {
        "colab": {
          "base_uri": "https://localhost:8080/"
        },
        "id": "PaIE8CE17bt0",
        "outputId": "5eaf7944-0f06-4062-a7ab-7f8fd6e745ff"
      },
      "outputs": [
        {
          "name": "stdout",
          "output_type": "stream",
          "text": [
            "\u001b[?25l   \u001b[90m━━━━━━━━━━━━━━━━━━━━━━━━━━━━━━━━━━━━━━━━\u001b[0m \u001b[32m0.0/441.4 kB\u001b[0m \u001b[31m?\u001b[0m eta \u001b[36m-:--:--\u001b[0m\r",
            "\u001b[2K   \u001b[90m━━━━━━━━━━━━━━━━━━━━━━━━━━━━━━━━━━━━━━━━\u001b[0m \u001b[32m441.4/441.4 kB\u001b[0m \u001b[31m22.1 MB/s\u001b[0m eta \u001b[36m0:00:00\u001b[0m\n",
            "\u001b[?25h\u001b[?25l   \u001b[90m━━━━━━━━━━━━━━━━━━━━━━━━━━━━━━━━━━━━━━━━\u001b[0m \u001b[32m0.0/367.7 kB\u001b[0m \u001b[31m?\u001b[0m eta \u001b[36m-:--:--\u001b[0m\r",
            "\u001b[2K   \u001b[90m━━━━━━━━━━━━━━━━━━━━━━━━━━━━━━━━━━━━━━━━\u001b[0m \u001b[32m367.7/367.7 kB\u001b[0m \u001b[31m24.2 MB/s\u001b[0m eta \u001b[36m0:00:00\u001b[0m\n",
            "\u001b[?25h\u001b[31mERROR: pip's dependency resolver does not currently take into account all the packages that are installed. This behaviour is the source of the following dependency conflicts.\n",
            "langchain-community 0.0.36 requires langchain-core<0.2.0,>=0.1.48, but you have langchain-core 0.3.68 which is incompatible.\n",
            "langchain-community 0.0.36 requires langsmith<0.2.0,>=0.1.0, but you have langsmith 0.4.4 which is incompatible.\n",
            "langchain-openai 0.1.7 requires langchain-core<0.3,>=0.1.46, but you have langchain-core 0.3.68 which is incompatible.\n",
            "langchain 0.1.16 requires langchain-core<0.2.0,>=0.1.42, but you have langchain-core 0.3.68 which is incompatible.\n",
            "langchain 0.1.16 requires langsmith<0.2.0,>=0.1.17, but you have langsmith 0.4.4 which is incompatible.\n",
            "langchain-text-splitters 0.0.2 requires langchain-core<0.3,>=0.1.28, but you have langchain-core 0.3.68 which is incompatible.\u001b[0m\u001b[31m\n",
            "\u001b[2K     \u001b[90m━━━━━━━━━━━━━━━━━━━━━━━━━━━━━━━━━━━━━━━━\u001b[0m \u001b[32m86.0/86.0 kB\u001b[0m \u001b[31m6.8 MB/s\u001b[0m eta \u001b[36m0:00:00\u001b[0m\n",
            "\u001b[?25h  Preparing metadata (setup.py) ... \u001b[?25l\u001b[?25hdone\n",
            "  Building wheel for sentence_transformers (setup.py) ... \u001b[?25l\u001b[?25hdone\n",
            "\u001b[2K   \u001b[90m━━━━━━━━━━━━━━━━━━━━━━━━━━━━━━━━━━━━━━━━\u001b[0m \u001b[32m290.4/290.4 kB\u001b[0m \u001b[31m20.4 MB/s\u001b[0m eta \u001b[36m0:00:00\u001b[0m\n",
            "\u001b[?25h\u001b[31mERROR: pip's dependency resolver does not currently take into account all the packages that are installed. This behaviour is the source of the following dependency conflicts.\n",
            "langchain-community 0.0.36 requires langchain-core<0.2.0,>=0.1.48, but you have langchain-core 0.1.45 which is incompatible.\n",
            "langchain-openai 0.1.7 requires langchain-core<0.3,>=0.1.46, but you have langchain-core 0.1.45 which is incompatible.\n",
            "langchain-chroma 0.2.4 requires langchain-core>=0.3.60, but you have langchain-core 0.1.45 which is incompatible.\u001b[0m\u001b[31m\n",
            "\u001b[0m\u001b[31mERROR: pip's dependency resolver does not currently take into account all the packages that are installed. This behaviour is the source of the following dependency conflicts.\n",
            "langchain-chroma 0.2.4 requires langchain-core>=0.3.60, but you have langchain-core 0.1.53 which is incompatible.\u001b[0m\u001b[31m\n",
            "\u001b[0m"
          ]
        }
      ],
      "source": [
        "!pip install torch -q\n",
        "!pip install transformers -q\n",
        "!pip install numpy -q\n",
        "!pip install langchain==0.1.16 -q\n",
        "!pip install langchain_community==0.0.36 -q\n",
        "!pip install langchain-chroma==0.2.4 -q\n",
        "!pip install sentence_transformers==2.2.2 -q\n",
        "!pip install rank_bm25==0.2.2 -q\n",
        "!pip install pypdf==4.2.0 -q\n",
        "!pip install langchain-core==0.1.45 -q\n",
        "!pip install ragas==0.1.0 datasets==2.16.1 evaluate -q"
      ]
    },
    {
      "cell_type": "code",
      "execution_count": null,
      "metadata": {
        "colab": {
          "base_uri": "https://localhost:8080/",
          "height": 206
        },
        "id": "oyUbDpn-9bQI",
        "outputId": "608da0ab-f91b-4ace-ccf0-7194f305544a"
      },
      "outputs": [
        {
          "data": {
            "application/vnd.google.colaboratory.intrinsic+json": {
              "summary": "{\n  \"name\": \"test_data\",\n  \"rows\": 5,\n  \"fields\": [\n    {\n      \"column\": \"question\",\n      \"properties\": {\n        \"dtype\": \"string\",\n        \"num_unique_values\": 5,\n        \"samples\": [\n          \"Name three methods used for detecting faults in solar panels.\",\n          \"What are some preventive measures to reduce the occurrence of solar panel faults?\",\n          \"List two main environmental conditions that cause solar panel faults.\"\n        ],\n        \"semantic_type\": \"\",\n        \"description\": \"\"\n      }\n    },\n    {\n      \"column\": \"ground_truth_answer\",\n      \"properties\": {\n        \"dtype\": \"string\",\n        \"num_unique_values\": 5,\n        \"samples\": [\n          \"Three fault detection methods are visual inspection, thermal imaging, and I-V curve tracing.\",\n          \"Preventive measures include routine cleaning and maintenance, proper installation, use of PID-resistant panels, and performance monitoring systems.\",\n          \"Two environmental conditions that cause faults are extreme weather (e.g., hailstorms) and temperature fluctuations.\"\n        ],\n        \"semantic_type\": \"\",\n        \"description\": \"\"\n      }\n    }\n  ]\n}",
              "type": "dataframe",
              "variable_name": "test_data"
            },
            "text/html": [
              "\n",
              "  <div id=\"df-33899aaf-f481-4779-ab25-20d529aa4917\" class=\"colab-df-container\">\n",
              "    <div>\n",
              "<style scoped>\n",
              "    .dataframe tbody tr th:only-of-type {\n",
              "        vertical-align: middle;\n",
              "    }\n",
              "\n",
              "    .dataframe tbody tr th {\n",
              "        vertical-align: top;\n",
              "    }\n",
              "\n",
              "    .dataframe thead th {\n",
              "        text-align: right;\n",
              "    }\n",
              "</style>\n",
              "<table border=\"1\" class=\"dataframe\">\n",
              "  <thead>\n",
              "    <tr style=\"text-align: right;\">\n",
              "      <th></th>\n",
              "      <th>question</th>\n",
              "      <th>ground_truth_answer</th>\n",
              "    </tr>\n",
              "  </thead>\n",
              "  <tbody>\n",
              "    <tr>\n",
              "      <th>0</th>\n",
              "      <td>What are hot spots in solar panels and what ca...</td>\n",
              "      <td>Hot spots are localized regions on a solar pan...</td>\n",
              "    </tr>\n",
              "    <tr>\n",
              "      <th>1</th>\n",
              "      <td>Name three methods used for detecting faults i...</td>\n",
              "      <td>Three fault detection methods are visual inspe...</td>\n",
              "    </tr>\n",
              "    <tr>\n",
              "      <th>2</th>\n",
              "      <td>List two main environmental conditions that ca...</td>\n",
              "      <td>Two environmental conditions that cause faults...</td>\n",
              "    </tr>\n",
              "    <tr>\n",
              "      <th>3</th>\n",
              "      <td>What is Potential Induced Degradation (PID) an...</td>\n",
              "      <td>Potential Induced Degradation (PID) is a long-...</td>\n",
              "    </tr>\n",
              "    <tr>\n",
              "      <th>4</th>\n",
              "      <td>What are some preventive measures to reduce th...</td>\n",
              "      <td>Preventive measures include routine cleaning a...</td>\n",
              "    </tr>\n",
              "  </tbody>\n",
              "</table>\n",
              "</div>\n",
              "    <div class=\"colab-df-buttons\">\n",
              "\n",
              "  <div class=\"colab-df-container\">\n",
              "    <button class=\"colab-df-convert\" onclick=\"convertToInteractive('df-33899aaf-f481-4779-ab25-20d529aa4917')\"\n",
              "            title=\"Convert this dataframe to an interactive table.\"\n",
              "            style=\"display:none;\">\n",
              "\n",
              "  <svg xmlns=\"http://www.w3.org/2000/svg\" height=\"24px\" viewBox=\"0 -960 960 960\">\n",
              "    <path d=\"M120-120v-720h720v720H120Zm60-500h600v-160H180v160Zm220 220h160v-160H400v160Zm0 220h160v-160H400v160ZM180-400h160v-160H180v160Zm440 0h160v-160H620v160ZM180-180h160v-160H180v160Zm440 0h160v-160H620v160Z\"/>\n",
              "  </svg>\n",
              "    </button>\n",
              "\n",
              "  <style>\n",
              "    .colab-df-container {\n",
              "      display:flex;\n",
              "      gap: 12px;\n",
              "    }\n",
              "\n",
              "    .colab-df-convert {\n",
              "      background-color: #E8F0FE;\n",
              "      border: none;\n",
              "      border-radius: 50%;\n",
              "      cursor: pointer;\n",
              "      display: none;\n",
              "      fill: #1967D2;\n",
              "      height: 32px;\n",
              "      padding: 0 0 0 0;\n",
              "      width: 32px;\n",
              "    }\n",
              "\n",
              "    .colab-df-convert:hover {\n",
              "      background-color: #E2EBFA;\n",
              "      box-shadow: 0px 1px 2px rgba(60, 64, 67, 0.3), 0px 1px 3px 1px rgba(60, 64, 67, 0.15);\n",
              "      fill: #174EA6;\n",
              "    }\n",
              "\n",
              "    .colab-df-buttons div {\n",
              "      margin-bottom: 4px;\n",
              "    }\n",
              "\n",
              "    [theme=dark] .colab-df-convert {\n",
              "      background-color: #3B4455;\n",
              "      fill: #D2E3FC;\n",
              "    }\n",
              "\n",
              "    [theme=dark] .colab-df-convert:hover {\n",
              "      background-color: #434B5C;\n",
              "      box-shadow: 0px 1px 3px 1px rgba(0, 0, 0, 0.15);\n",
              "      filter: drop-shadow(0px 1px 2px rgba(0, 0, 0, 0.3));\n",
              "      fill: #FFFFFF;\n",
              "    }\n",
              "  </style>\n",
              "\n",
              "    <script>\n",
              "      const buttonEl =\n",
              "        document.querySelector('#df-33899aaf-f481-4779-ab25-20d529aa4917 button.colab-df-convert');\n",
              "      buttonEl.style.display =\n",
              "        google.colab.kernel.accessAllowed ? 'block' : 'none';\n",
              "\n",
              "      async function convertToInteractive(key) {\n",
              "        const element = document.querySelector('#df-33899aaf-f481-4779-ab25-20d529aa4917');\n",
              "        const dataTable =\n",
              "          await google.colab.kernel.invokeFunction('convertToInteractive',\n",
              "                                                    [key], {});\n",
              "        if (!dataTable) return;\n",
              "\n",
              "        const docLinkHtml = 'Like what you see? Visit the ' +\n",
              "          '<a target=\"_blank\" href=https://colab.research.google.com/notebooks/data_table.ipynb>data table notebook</a>'\n",
              "          + ' to learn more about interactive tables.';\n",
              "        element.innerHTML = '';\n",
              "        dataTable['output_type'] = 'display_data';\n",
              "        await google.colab.output.renderOutput(dataTable, element);\n",
              "        const docLink = document.createElement('div');\n",
              "        docLink.innerHTML = docLinkHtml;\n",
              "        element.appendChild(docLink);\n",
              "      }\n",
              "    </script>\n",
              "  </div>\n",
              "\n",
              "\n",
              "    <div id=\"df-cad12eb3-ce71-4ebd-b60b-dfc956887c9c\">\n",
              "      <button class=\"colab-df-quickchart\" onclick=\"quickchart('df-cad12eb3-ce71-4ebd-b60b-dfc956887c9c')\"\n",
              "                title=\"Suggest charts\"\n",
              "                style=\"display:none;\">\n",
              "\n",
              "<svg xmlns=\"http://www.w3.org/2000/svg\" height=\"24px\"viewBox=\"0 0 24 24\"\n",
              "     width=\"24px\">\n",
              "    <g>\n",
              "        <path d=\"M19 3H5c-1.1 0-2 .9-2 2v14c0 1.1.9 2 2 2h14c1.1 0 2-.9 2-2V5c0-1.1-.9-2-2-2zM9 17H7v-7h2v7zm4 0h-2V7h2v10zm4 0h-2v-4h2v4z\"/>\n",
              "    </g>\n",
              "</svg>\n",
              "      </button>\n",
              "\n",
              "<style>\n",
              "  .colab-df-quickchart {\n",
              "      --bg-color: #E8F0FE;\n",
              "      --fill-color: #1967D2;\n",
              "      --hover-bg-color: #E2EBFA;\n",
              "      --hover-fill-color: #174EA6;\n",
              "      --disabled-fill-color: #AAA;\n",
              "      --disabled-bg-color: #DDD;\n",
              "  }\n",
              "\n",
              "  [theme=dark] .colab-df-quickchart {\n",
              "      --bg-color: #3B4455;\n",
              "      --fill-color: #D2E3FC;\n",
              "      --hover-bg-color: #434B5C;\n",
              "      --hover-fill-color: #FFFFFF;\n",
              "      --disabled-bg-color: #3B4455;\n",
              "      --disabled-fill-color: #666;\n",
              "  }\n",
              "\n",
              "  .colab-df-quickchart {\n",
              "    background-color: var(--bg-color);\n",
              "    border: none;\n",
              "    border-radius: 50%;\n",
              "    cursor: pointer;\n",
              "    display: none;\n",
              "    fill: var(--fill-color);\n",
              "    height: 32px;\n",
              "    padding: 0;\n",
              "    width: 32px;\n",
              "  }\n",
              "\n",
              "  .colab-df-quickchart:hover {\n",
              "    background-color: var(--hover-bg-color);\n",
              "    box-shadow: 0 1px 2px rgba(60, 64, 67, 0.3), 0 1px 3px 1px rgba(60, 64, 67, 0.15);\n",
              "    fill: var(--button-hover-fill-color);\n",
              "  }\n",
              "\n",
              "  .colab-df-quickchart-complete:disabled,\n",
              "  .colab-df-quickchart-complete:disabled:hover {\n",
              "    background-color: var(--disabled-bg-color);\n",
              "    fill: var(--disabled-fill-color);\n",
              "    box-shadow: none;\n",
              "  }\n",
              "\n",
              "  .colab-df-spinner {\n",
              "    border: 2px solid var(--fill-color);\n",
              "    border-color: transparent;\n",
              "    border-bottom-color: var(--fill-color);\n",
              "    animation:\n",
              "      spin 1s steps(1) infinite;\n",
              "  }\n",
              "\n",
              "  @keyframes spin {\n",
              "    0% {\n",
              "      border-color: transparent;\n",
              "      border-bottom-color: var(--fill-color);\n",
              "      border-left-color: var(--fill-color);\n",
              "    }\n",
              "    20% {\n",
              "      border-color: transparent;\n",
              "      border-left-color: var(--fill-color);\n",
              "      border-top-color: var(--fill-color);\n",
              "    }\n",
              "    30% {\n",
              "      border-color: transparent;\n",
              "      border-left-color: var(--fill-color);\n",
              "      border-top-color: var(--fill-color);\n",
              "      border-right-color: var(--fill-color);\n",
              "    }\n",
              "    40% {\n",
              "      border-color: transparent;\n",
              "      border-right-color: var(--fill-color);\n",
              "      border-top-color: var(--fill-color);\n",
              "    }\n",
              "    60% {\n",
              "      border-color: transparent;\n",
              "      border-right-color: var(--fill-color);\n",
              "    }\n",
              "    80% {\n",
              "      border-color: transparent;\n",
              "      border-right-color: var(--fill-color);\n",
              "      border-bottom-color: var(--fill-color);\n",
              "    }\n",
              "    90% {\n",
              "      border-color: transparent;\n",
              "      border-bottom-color: var(--fill-color);\n",
              "    }\n",
              "  }\n",
              "</style>\n",
              "\n",
              "      <script>\n",
              "        async function quickchart(key) {\n",
              "          const quickchartButtonEl =\n",
              "            document.querySelector('#' + key + ' button');\n",
              "          quickchartButtonEl.disabled = true;  // To prevent multiple clicks.\n",
              "          quickchartButtonEl.classList.add('colab-df-spinner');\n",
              "          try {\n",
              "            const charts = await google.colab.kernel.invokeFunction(\n",
              "                'suggestCharts', [key], {});\n",
              "          } catch (error) {\n",
              "            console.error('Error during call to suggestCharts:', error);\n",
              "          }\n",
              "          quickchartButtonEl.classList.remove('colab-df-spinner');\n",
              "          quickchartButtonEl.classList.add('colab-df-quickchart-complete');\n",
              "        }\n",
              "        (() => {\n",
              "          let quickchartButtonEl =\n",
              "            document.querySelector('#df-cad12eb3-ce71-4ebd-b60b-dfc956887c9c button');\n",
              "          quickchartButtonEl.style.display =\n",
              "            google.colab.kernel.accessAllowed ? 'block' : 'none';\n",
              "        })();\n",
              "      </script>\n",
              "    </div>\n",
              "\n",
              "  <div id=\"id_11112cdb-d103-42ea-a52e-1f0cc5e7a2e7\">\n",
              "    <style>\n",
              "      .colab-df-generate {\n",
              "        background-color: #E8F0FE;\n",
              "        border: none;\n",
              "        border-radius: 50%;\n",
              "        cursor: pointer;\n",
              "        display: none;\n",
              "        fill: #1967D2;\n",
              "        height: 32px;\n",
              "        padding: 0 0 0 0;\n",
              "        width: 32px;\n",
              "      }\n",
              "\n",
              "      .colab-df-generate:hover {\n",
              "        background-color: #E2EBFA;\n",
              "        box-shadow: 0px 1px 2px rgba(60, 64, 67, 0.3), 0px 1px 3px 1px rgba(60, 64, 67, 0.15);\n",
              "        fill: #174EA6;\n",
              "      }\n",
              "\n",
              "      [theme=dark] .colab-df-generate {\n",
              "        background-color: #3B4455;\n",
              "        fill: #D2E3FC;\n",
              "      }\n",
              "\n",
              "      [theme=dark] .colab-df-generate:hover {\n",
              "        background-color: #434B5C;\n",
              "        box-shadow: 0px 1px 3px 1px rgba(0, 0, 0, 0.15);\n",
              "        filter: drop-shadow(0px 1px 2px rgba(0, 0, 0, 0.3));\n",
              "        fill: #FFFFFF;\n",
              "      }\n",
              "    </style>\n",
              "    <button class=\"colab-df-generate\" onclick=\"generateWithVariable('test_data')\"\n",
              "            title=\"Generate code using this dataframe.\"\n",
              "            style=\"display:none;\">\n",
              "\n",
              "  <svg xmlns=\"http://www.w3.org/2000/svg\" height=\"24px\"viewBox=\"0 0 24 24\"\n",
              "       width=\"24px\">\n",
              "    <path d=\"M7,19H8.4L18.45,9,17,7.55,7,17.6ZM5,21V16.75L18.45,3.32a2,2,0,0,1,2.83,0l1.4,1.43a1.91,1.91,0,0,1,.58,1.4,1.91,1.91,0,0,1-.58,1.4L9.25,21ZM18.45,9,17,7.55Zm-12,3A5.31,5.31,0,0,0,4.9,8.1,5.31,5.31,0,0,0,1,6.5,5.31,5.31,0,0,0,4.9,4.9,5.31,5.31,0,0,0,6.5,1,5.31,5.31,0,0,0,8.1,4.9,5.31,5.31,0,0,0,12,6.5,5.46,5.46,0,0,0,6.5,12Z\"/>\n",
              "  </svg>\n",
              "    </button>\n",
              "    <script>\n",
              "      (() => {\n",
              "      const buttonEl =\n",
              "        document.querySelector('#id_11112cdb-d103-42ea-a52e-1f0cc5e7a2e7 button.colab-df-generate');\n",
              "      buttonEl.style.display =\n",
              "        google.colab.kernel.accessAllowed ? 'block' : 'none';\n",
              "\n",
              "      buttonEl.onclick = () => {\n",
              "        google.colab.notebook.generateWithVariable('test_data');\n",
              "      }\n",
              "      })();\n",
              "    </script>\n",
              "  </div>\n",
              "\n",
              "    </div>\n",
              "  </div>\n"
            ],
            "text/plain": [
              "                                            question  \\\n",
              "0  What are hot spots in solar panels and what ca...   \n",
              "1  Name three methods used for detecting faults i...   \n",
              "2  List two main environmental conditions that ca...   \n",
              "3  What is Potential Induced Degradation (PID) an...   \n",
              "4  What are some preventive measures to reduce th...   \n",
              "\n",
              "                                 ground_truth_answer  \n",
              "0  Hot spots are localized regions on a solar pan...  \n",
              "1  Three fault detection methods are visual inspe...  \n",
              "2  Two environmental conditions that cause faults...  \n",
              "3  Potential Induced Degradation (PID) is a long-...  \n",
              "4  Preventive measures include routine cleaning a...  "
            ]
          },
          "execution_count": 29,
          "metadata": {},
          "output_type": "execute_result"
        }
      ],
      "source": [
        "import pandas as pd\n",
        "test_data = pd.read_csv(\"/content/rag_evaluation_solar_faults.csv\")\n",
        "test_data"
      ]
    },
    {
      "cell_type": "code",
      "execution_count": null,
      "metadata": {
        "id": "xhJLF_k19o7f"
      },
      "outputs": [],
      "source": [
        "questions = test_data[\"question\"].to_list()\n",
        "ground_truth = test_data[\"ground_truth_answer\"].to_list()"
      ]
    },
    {
      "cell_type": "code",
      "execution_count": null,
      "metadata": {
        "colab": {
          "base_uri": "https://localhost:8080/"
        },
        "id": "kXDN6hJH9zuV",
        "outputId": "d150512c-61aa-4ed6-e009-bb646fd61f01"
      },
      "outputs": [
        {
          "data": {
            "text/plain": [
              "['What are hot spots in solar panels and what causes them?',\n",
              " 'Name three methods used for detecting faults in solar panels.',\n",
              " 'List two main environmental conditions that cause solar panel faults.',\n",
              " 'What is Potential Induced Degradation (PID) and how does it affect solar panels?',\n",
              " 'What are some preventive measures to reduce the occurrence of solar panel faults?']"
            ]
          },
          "execution_count": 31,
          "metadata": {},
          "output_type": "execute_result"
        }
      ],
      "source": [
        "questions"
      ]
    },
    {
      "cell_type": "code",
      "execution_count": null,
      "metadata": {
        "id": "-sS1Ph-c97My"
      },
      "outputs": [],
      "source": [
        "data = {\"question\": [], \"answer\": [], \"contexts\": [], \"ground_truth_answer\": ground_truth}"
      ]
    },
    {
      "cell_type": "code",
      "execution_count": null,
      "metadata": {
        "colab": {
          "base_uri": "https://localhost:8080/"
        },
        "id": "PLZJIf1o-I4Q",
        "outputId": "20c1f1e4-f0d7-4403-9539-654b71646d92"
      },
      "outputs": [
        {
          "name": "stderr",
          "output_type": "stream",
          "text": [
            "Setting `pad_token_id` to `eos_token_id`:11 for open-end generation.\n",
            "/tmp/ipython-input-33-191195151.py:4: LangChainDeprecationWarning: The method `BaseRetriever.get_relevant_documents` was deprecated in langchain-core 0.1.46 and will be removed in 1.0. Use :meth:`~invoke` instead.\n",
            "  data[\"contexts\"].append([doc.page_content for doc in ensemble_retriever.get_relevant_documents(query)])\n",
            "Setting `pad_token_id` to `eos_token_id`:11 for open-end generation.\n",
            "Setting `pad_token_id` to `eos_token_id`:11 for open-end generation.\n",
            "Setting `pad_token_id` to `eos_token_id`:11 for open-end generation.\n",
            "Setting `pad_token_id` to `eos_token_id`:11 for open-end generation.\n"
          ]
        }
      ],
      "source": [
        "for query in questions:\n",
        "    data[\"question\"].append(query)\n",
        "    data[\"answer\"].append(chain.invoke(query))\n",
        "    data[\"contexts\"].append([doc.page_content for doc in ensemble_retriever.get_relevant_documents(query)])"
      ]
    },
    {
      "cell_type": "code",
      "execution_count": null,
      "metadata": {
        "colab": {
          "base_uri": "https://localhost:8080/"
        },
        "collapsed": true,
        "id": "4VGo6VC7_kQw",
        "outputId": "a5347b41-f59d-47c1-aecf-df695a441a41"
      },
      "outputs": [
        {
          "data": {
            "text/plain": [
              "{'question': ['What are hot spots in solar panels and what causes them?',\n",
              "  'Name three methods used for detecting faults in solar panels.',\n",
              "  'List two main environmental conditions that cause solar panel faults.',\n",
              "  'What is Potential Induced Degradation (PID) and how does it affect solar panels?',\n",
              "  'What are some preventive measures to reduce the occurrence of solar panel faults?'],\n",
              " 'answer': ['Human: \\nYou are a helpful assistant. Use the provided context below to answer the question.\\nOnly include information that appears in the context. If the answer is not found, say:\\n\"I could not find the answer in the provided document.\"\\n\\nQuestion:\\nWhat are hot spots in solar panels and what causes them?\\n\\nContext:\\n[Document(id=\\'f06a794f-e53e-409a-83e4-10f6954466d6\\', metadata={\\'total_pages\\': 4, \\'creator\\': \\'PyPDF\\', \\'page_label\\': \\'2\\', \\'page\\': 1, \\'source\\': \\'/content/Solar_Panel_Faults_Extended_Cleaned.pdf\\', \\'producer\\': \\'PyFPDF 1.7.2 http://pyfpdf.googlecode.com/\\', \\'creationdate\\': \\'D:20250704030500\\'}, page_content=\\'of panels and block sunlight. Uneven soiling may cause mismatch losses and partial shading, leading to\\\\nreduced power generation and in some cases, hot spots.\\\\nCauses Behind Solar Panel Faults\\\\nThe underlying causes of solar panel faults can be broadly divided into five main categories:\\\\n1. Environmental Conditions - Extreme weather conditions such as hailstorms, high winds, heavy snow, and\\'), Document(id=\\'e686a574-6e8d-4c97-b3bd-4a74d95696e5\\', metadata={\\'page_label\\': \\'1\\', \\'page\\': 0, \\'total_pages\\': 4, \\'producer\\': \\'PyFPDF 1.7.2 http://pyfpdf.googlecode.com/\\', \\'source\\': \\'/content/Solar_Panel_Faults_Extended_Cleaned.pdf\\', \\'creator\\': \\'PyPDF\\', \\'creationdate\\': \\'D:20250704030500\\'}, page_content=\\'cell degradation, glass breakage, and even fire. Hot spots are often caused by shading, bird droppings, or\\\\ninternal defects.\\\\n4. Potential Induced Degradation (PID) - PID is a long-term degradation mechanism caused by high voltage\\\\npotential differences between the solar cells and the grounded frame. This condition causes leakage\\'), Document(id=\\'f87596f6-3a6c-46ef-9743-60cf276e7ba4\\', metadata={\\'page\\': 0, \\'source\\': \\'/content/Solar_Panel_Faults_Extended_Cleaned.pdf\\', \\'producer\\': \\'PyFPDF 1.7.2 http://pyfpdf.googlecode.com/\\', \\'page_label\\': \\'1\\', \\'creator\\': \\'PyPDF\\', \\'creationdate\\': \\'D:20250704030500\\', \\'total_pages\\': 4}, page_content=\"positive and negative terminals. This can result in excessive current flow, which may cause localized heating,\\\\ndamage to the panel\\'s internal components, or even fire hazards.\\\\n3. Hot Spots - Hot spots develop in localized regions of a panel where current continues to flow through a\\\\npartially shaded or damaged cell. These regions can reach dangerously high temperatures, which can cause\"), Document(metadata={\\'producer\\': \\'PyFPDF 1.7.2 http://pyfpdf.googlecode.com/\\', \\'creator\\': \\'PyPDF\\', \\'creationdate\\': \\'D:20250704030500\\', \\'source\\': \\'/content/Solar_Panel_Faults_Extended_Cleaned.pdf\\', \\'total_pages\\': 4, \\'page\\': 3, \\'page_label\\': \\'4\\'}, page_content=\\'spots and reducing mismatch losses. Ensure that diodes are functional and appropriately rated.\\\\n5. Use of PID-Resistant Panels - Modern panels are available with PID-resistant technologies such as\\\\nimproved encapsulants and modified cell structures. Using such panels in PID-prone environments reduces\\\\nlong-term degradation.\\')]\\n\\nAnswer:\\nThe hot spots in solar panels are caused by a combination of environmental conditions, such as extreme weather conditions, high winds, heavy snow, and shading, as well as potential induced degradation (PID) and hot spots caused by internal degradation.',\n",
              "  'Human: \\nYou are a helpful assistant. Use the provided context below to answer the question.\\nOnly include information that appears in the context. If the answer is not found, say:\\n\"I could not find the answer in the provided document.\"\\n\\nQuestion:\\nName three methods used for detecting faults in solar panels.\\n\\nContext:\\n[Document(id=\\'a2fc7538-64fd-4311-94cf-12d2b1952f94\\', metadata={\\'page\\': 2, \\'page_label\\': \\'3\\', \\'total_pages\\': 4, \\'creationdate\\': \\'D:20250704030500\\', \\'producer\\': \\'PyFPDF 1.7.2 http://pyfpdf.googlecode.com/\\', \\'creator\\': \\'PyPDF\\', \\'source\\': \\'/content/Solar_Panel_Faults_Extended_Cleaned.pdf\\'}, page_content=\\'Comprehensive Report on Solar Panel Faults\\\\ncurrents from batteries or inverters can cause electrical faults. These can burn out bypass diodes, damage\\\\ncell interconnections, and lead to short circuits.\\\\nFault Detection Techniques for Solar Panels\\\\nEfficient fault detection is crucial for minimizing downtime and maintenance costs. The following methods are\\\\ncommonly used:\\'), Document(metadata={\\'producer\\': \\'PyFPDF 1.7.2 http://pyfpdf.googlecode.com/\\', \\'creator\\': \\'PyPDF\\', \\'creationdate\\': \\'D:20250704030500\\', \\'source\\': \\'/content/Solar_Panel_Faults_Extended_Cleaned.pdf\\', \\'total_pages\\': 4, \\'page\\': 2, \\'page_label\\': \\'3\\'}, page_content=\\'performance tracking. Systems can automatically flag irregular drops in output, detect pattern anomalies, and\\\\nalert maintenance teams.\\\\n6. Insulation Resistance Testing - This electrical test checks for leakage current paths between the PV array\\\\nand ground. It is particularly useful for detecting PID and insulation damage.\\\\nSolutions and Preventive Measures\\'), Document(id=\\'2530e053-811f-4dd3-82bb-9ddc48d7ffd0\\', metadata={\\'creationdate\\': \\'D:20250704030500\\', \\'page\\': 3, \\'total_pages\\': 4, \\'source\\': \\'/content/Solar_Panel_Faults_Extended_Cleaned.pdf\\', \\'producer\\': \\'PyFPDF 1.7.2 http://pyfpdf.googlecode.com/\\', \\'page_label\\': \\'4\\', \\'creator\\': \\'PyPDF\\'}, page_content=\\'Comprehensive Report on Solar Panel Faults\\\\n1. Routine Cleaning and Maintenance - Regular cleaning removes dust and debris, improving irradiance.\\\\nMaintenance schedules should include checking wiring, tightening connections, and ensuring grounding is\\\\nintact.\\\\n2. Proper Installation Techniques - Employ trained professionals for panel installation to ensure correct\\'), Document(metadata={\\'producer\\': \\'PyFPDF 1.7.2 http://pyfpdf.googlecode.com/\\', \\'creator\\': \\'PyPDF\\', \\'creationdate\\': \\'D:20250704030500\\', \\'source\\': \\'/content/Solar_Panel_Faults_Extended_Cleaned.pdf\\', \\'total_pages\\': 4, \\'page\\': 0, \\'page_label\\': \\'1\\'}, page_content=\"system\\'s safety, and in some cases, lead to permanent damage to the solar array or connected systems.\\\\nSolar panels, though designed for durability and long service, can still fail due to factors like weather, material\\\\ndegradation, poor installation, and manufacturing defects. Understanding solar panel faults is critical for\"), Document(id=\\'c718e40a-36d4-49a5-a92a-37fb57d35207\\', metadata={\\'creationdate\\': \\'D:20250704030500\\', \\'source\\': \\'/content/Solar_Panel_Faults_Extended_Cleaned.pdf\\', \\'creator\\': \\'PyPDF\\', \\'page_label\\': \\'1\\', \\'producer\\': \\'PyFPDF 1.7.2 http://pyfpdf.googlecode.com/\\', \\'page\\': 0, \\'total_pages\\': 4}, page_content=\\'Comprehensive Report on Solar Panel Faults\\\\nIntroduction: What are Solar Panel Faults?\\\\nSolar panel faults refer to any abnormal conditions that interfere with the normal generation of electrical\\\\npower from photovoltaic (PV) modules. These faults can cause a reduction in energy output, compromise the\\')]\\n\\nAnswer:\\n1. Routine Cleaning and Maintenance - Regular cleaning removes dust and debris, improving irradiance.\\n2. Proper Installation Techniques - Employ trained professionals for panel installation to ensure correct wiring, tightening connections, and ensuring grounding is intact.\\n3. Insulation Resistance Testing - This electrical test checks for leakage current paths between the PV array and ground. It is particularly useful for detecting PID and insulation damage.\\n4. Proper Installation Techniques - Employ trained professionals for panel installation to ensure correct wiring, tightening connections, and ensuring grounding is intact.\\n5. Routine Cleaning and Maintenance - Regular cleaning removes dust and debris, improving irradiance.\\n6. Insulation Resistance Testing - This electrical test checks for leakage current paths between the PV array and ground. It is particularly useful for detecting PID and insulation damage.\\n7. Routine Cleaning and Maintenance - Regular cleaning removes dust and debris, improving irradiance.\\n8. Insulation Resistance Testing - This electrical test checks for leakage current paths between the PV array and ground. It is particularly useful for detecting PID and insulation damage.\\n9. Routine Cleaning and Maintenance - Regular cleaning removes dust and debris, improving irradiance.\\n10. Insulation Resistance Testing - This electrical test checks',\n",
              "  'Human: \\nYou are a helpful assistant. Use the provided context below to answer the question.\\nOnly include information that appears in the context. If the answer is not found, say:\\n\"I could not find the answer in the provided document.\"\\n\\nQuestion:\\nList two main environmental conditions that cause solar panel faults.\\n\\nContext:\\n[Document(id=\\'c718e40a-36d4-49a5-a92a-37fb57d35207\\', metadata={\\'creationdate\\': \\'D:20250704030500\\', \\'producer\\': \\'PyFPDF 1.7.2 http://pyfpdf.googlecode.com/\\', \\'source\\': \\'/content/Solar_Panel_Faults_Extended_Cleaned.pdf\\', \\'total_pages\\': 4, \\'page_label\\': \\'1\\', \\'creator\\': \\'PyPDF\\', \\'page\\': 0}, page_content=\\'Comprehensive Report on Solar Panel Faults\\\\nIntroduction: What are Solar Panel Faults?\\\\nSolar panel faults refer to any abnormal conditions that interfere with the normal generation of electrical\\\\npower from photovoltaic (PV) modules. These faults can cause a reduction in energy output, compromise the\\'), Document(id=\\'f06a794f-e53e-409a-83e4-10f6954466d6\\', metadata={\\'page_label\\': \\'2\\', \\'page\\': 1, \\'source\\': \\'/content/Solar_Panel_Faults_Extended_Cleaned.pdf\\', \\'creator\\': \\'PyPDF\\', \\'total_pages\\': 4, \\'creationdate\\': \\'D:20250704030500\\', \\'producer\\': \\'PyFPDF 1.7.2 http://pyfpdf.googlecode.com/\\'}, page_content=\\'of panels and block sunlight. Uneven soiling may cause mismatch losses and partial shading, leading to\\\\nreduced power generation and in some cases, hot spots.\\\\nCauses Behind Solar Panel Faults\\\\nThe underlying causes of solar panel faults can be broadly divided into five main categories:\\\\n1. Environmental Conditions - Extreme weather conditions such as hailstorms, high winds, heavy snow, and\\'), Document(id=\\'7e480943-5005-414b-ba73-033093d2b8a5\\', metadata={\\'page_label\\': \\'2\\', \\'producer\\': \\'PyFPDF 1.7.2 http://pyfpdf.googlecode.com/\\', \\'creationdate\\': \\'D:20250704030500\\', \\'total_pages\\': 4, \\'source\\': \\'/content/Solar_Panel_Faults_Extended_Cleaned.pdf\\', \\'creator\\': \\'PyPDF\\', \\'page\\': 1}, page_content=\\'4. Aging and Wear - Solar panels naturally degrade over time, typically losing about 0.5-1% efficiency per\\\\nyear. Prolonged exposure to the environment results in yellowing of encapsulant, corrosion, and fatigue in\\\\ninterconnections.\\\\n5. Electrical Overstress and External Factors - Events such as lightning strikes, power surges, and reverse\\'), Document(metadata={\\'producer\\': \\'PyFPDF 1.7.2 http://pyfpdf.googlecode.com/\\', \\'creator\\': \\'PyPDF\\', \\'creationdate\\': \\'D:20250704030500\\', \\'source\\': \\'/content/Solar_Panel_Faults_Extended_Cleaned.pdf\\', \\'total_pages\\': 4, \\'page\\': 2, \\'page_label\\': \\'3\\'}, page_content=\\'Comprehensive Report on Solar Panel Faults\\\\ncurrents from batteries or inverters can cause electrical faults. These can burn out bypass diodes, damage\\\\ncell interconnections, and lead to short circuits.\\\\nFault Detection Techniques for Solar Panels\\\\nEfficient fault detection is crucial for minimizing downtime and maintenance costs. The following methods are\\\\ncommonly used:\\')]\\n\\nAnswer:\\n\\n1. Environmental Conditions: Extreme weather conditions such as hailstorms, heavy snow, and high winds can cause solar panel faults.\\n\\n2. Environmental Conditions: Uneven soiling may cause mismatch losses and partial shading, leading to reduced power generation and in some cases, hot spots.\\n\\n3. Aging and Wear: Solar panels naturally degrade over time, typically losing about 0.5-1% efficiency per year. Prolonged exposure to the environment results in yellowing of encapsulant, corrosion, and fatigue in interconnections.\\n\\n4. Electrical Overstress and External Factors: Events such as lightning strikes, power surges, and reverse power can cause electrical faults.\\n\\n5. Electrical Overstress and External Factors: Events such as lightning strikes, power surges, and reverse power can cause electrical faults.',\n",
              "  'Human: \\nYou are a helpful assistant. Use the provided context below to answer the question.\\nOnly include information that appears in the context. If the answer is not found, say:\\n\"I could not find the answer in the provided document.\"\\n\\nQuestion:\\nWhat is Potential Induced Degradation (PID) and how does it affect solar panels?\\n\\nContext:\\n[Document(id=\\'e686a574-6e8d-4c97-b3bd-4a74d95696e5\\', metadata={\\'producer\\': \\'PyFPDF 1.7.2 http://pyfpdf.googlecode.com/\\', \\'creator\\': \\'PyPDF\\', \\'source\\': \\'/content/Solar_Panel_Faults_Extended_Cleaned.pdf\\', \\'creationdate\\': \\'D:20250704030500\\', \\'total_pages\\': 4, \\'page\\': 0, \\'page_label\\': \\'1\\'}, page_content=\\'cell degradation, glass breakage, and even fire. Hot spots are often caused by shading, bird droppings, or\\\\ninternal defects.\\\\n4. Potential Induced Degradation (PID) - PID is a long-term degradation mechanism caused by high voltage\\\\npotential differences between the solar cells and the grounded frame. This condition causes leakage\\'), Document(id=\\'c718e40a-36d4-49a5-a92a-37fb57d35207\\', metadata={\\'total_pages\\': 4, \\'creationdate\\': \\'D:20250704030500\\', \\'page\\': 0, \\'producer\\': \\'PyFPDF 1.7.2 http://pyfpdf.googlecode.com/\\', \\'creator\\': \\'PyPDF\\', \\'page_label\\': \\'1\\', \\'source\\': \\'/content/Solar_Panel_Faults_Extended_Cleaned.pdf\\'}, page_content=\\'Comprehensive Report on Solar Panel Faults\\\\nIntroduction: What are Solar Panel Faults?\\\\nSolar panel faults refer to any abnormal conditions that interfere with the normal generation of electrical\\\\npower from photovoltaic (PV) modules. These faults can cause a reduction in energy output, compromise the\\'), Document(id=\\'7e480943-5005-414b-ba73-033093d2b8a5\\', metadata={\\'creator\\': \\'PyPDF\\', \\'page_label\\': \\'2\\', \\'page\\': 1, \\'creationdate\\': \\'D:20250704030500\\', \\'total_pages\\': 4, \\'source\\': \\'/content/Solar_Panel_Faults_Extended_Cleaned.pdf\\', \\'producer\\': \\'PyFPDF 1.7.2 http://pyfpdf.googlecode.com/\\'}, page_content=\\'4. Aging and Wear - Solar panels naturally degrade over time, typically losing about 0.5-1% efficiency per\\\\nyear. Prolonged exposure to the environment results in yellowing of encapsulant, corrosion, and fatigue in\\\\ninterconnections.\\\\n5. Electrical Overstress and External Factors - Events such as lightning strikes, power surges, and reverse\\'), Document(metadata={\\'producer\\': \\'PyFPDF 1.7.2 http://pyfpdf.googlecode.com/\\', \\'creator\\': \\'PyPDF\\', \\'creationdate\\': \\'D:20250704030500\\', \\'source\\': \\'/content/Solar_Panel_Faults_Extended_Cleaned.pdf\\', \\'total_pages\\': 4, \\'page\\': 2, \\'page_label\\': \\'3\\'}, page_content=\\'commonly used:\\\\n1. Visual Inspection - This is the simplest method and involves physically inspecting the modules for cracks,\\\\nburn marks, discoloration, corrosion, or delamination. While it does not detect hidden faults, it is useful for\\\\nidentifying obvious damage.\\\\n2. Thermal Imaging - Infrared cameras are used to detect temperature anomalies on the panel surface. Hot\\')]\\n\\nAnswer:\\nPID is a long-term degradation mechanism caused by high voltage potential differences between the solar cells and the grounded frame. This condition causes leakage of electric current, leading to a decrease in the efficiency of the solar panel.',\n",
              "  'Human: \\nYou are a helpful assistant. Use the provided context below to answer the question.\\nOnly include information that appears in the context. If the answer is not found, say:\\n\"I could not find the answer in the provided document.\"\\n\\nQuestion:\\nWhat are some preventive measures to reduce the occurrence of solar panel faults?\\n\\nContext:\\n[Document(id=\\'c718e40a-36d4-49a5-a92a-37fb57d35207\\', metadata={\\'producer\\': \\'PyFPDF 1.7.2 http://pyfpdf.googlecode.com/\\', \\'page\\': 0, \\'creator\\': \\'PyPDF\\', \\'source\\': \\'/content/Solar_Panel_Faults_Extended_Cleaned.pdf\\', \\'total_pages\\': 4, \\'page_label\\': \\'1\\', \\'creationdate\\': \\'D:20250704030500\\'}, page_content=\\'Comprehensive Report on Solar Panel Faults\\\\nIntroduction: What are Solar Panel Faults?\\\\nSolar panel faults refer to any abnormal conditions that interfere with the normal generation of electrical\\\\npower from photovoltaic (PV) modules. These faults can cause a reduction in energy output, compromise the\\'), Document(id=\\'59853870-f5da-4463-b804-c01bc1bd670a\\', metadata={\\'total_pages\\': 4, \\'creationdate\\': \\'D:20250704030500\\', \\'creator\\': \\'PyPDF\\', \\'source\\': \\'/content/Solar_Panel_Faults_Extended_Cleaned.pdf\\', \\'page_label\\': \\'3\\', \\'producer\\': \\'PyFPDF 1.7.2 http://pyfpdf.googlecode.com/\\', \\'page\\': 2}, page_content=\\'Solutions and Preventive Measures\\\\nTimely and appropriate solutions can restore solar panel performance and prevent long-term issues.\\'), Document(id=\\'2530e053-811f-4dd3-82bb-9ddc48d7ffd0\\', metadata={\\'page\\': 3, \\'creationdate\\': \\'D:20250704030500\\', \\'page_label\\': \\'4\\', \\'total_pages\\': 4, \\'creator\\': \\'PyPDF\\', \\'producer\\': \\'PyFPDF 1.7.2 http://pyfpdf.googlecode.com/\\', \\'source\\': \\'/content/Solar_Panel_Faults_Extended_Cleaned.pdf\\'}, page_content=\\'Comprehensive Report on Solar Panel Faults\\\\n1. Routine Cleaning and Maintenance - Regular cleaning removes dust and debris, improving irradiance.\\\\nMaintenance schedules should include checking wiring, tightening connections, and ensuring grounding is\\\\nintact.\\\\n2. Proper Installation Techniques - Employ trained professionals for panel installation to ensure correct\\'), Document(metadata={\\'producer\\': \\'PyFPDF 1.7.2 http://pyfpdf.googlecode.com/\\', \\'creator\\': \\'PyPDF\\', \\'creationdate\\': \\'D:20250704030500\\', \\'source\\': \\'/content/Solar_Panel_Faults_Extended_Cleaned.pdf\\', \\'total_pages\\': 4, \\'page\\': 0, \\'page_label\\': \\'1\\'}, page_content=\"system\\'s safety, and in some cases, lead to permanent damage to the solar array or connected systems.\\\\nSolar panels, though designed for durability and long service, can still fail due to factors like weather, material\\\\ndegradation, poor installation, and manufacturing defects. Understanding solar panel faults is critical for\"), Document(metadata={\\'producer\\': \\'PyFPDF 1.7.2 http://pyfpdf.googlecode.com/\\', \\'creator\\': \\'PyPDF\\', \\'creationdate\\': \\'D:20250704030500\\', \\'source\\': \\'/content/Solar_Panel_Faults_Extended_Cleaned.pdf\\', \\'total_pages\\': 4, \\'page\\': 3, \\'page_label\\': \\'4\\'}, page_content=\\'understanding the types of faults, their causes, detection techniques, and preventive measures, stakeholders\\\\ncan enhance system performance, minimize downtime, and extend asset life. Investing in proper installation,\\\\nperiodic inspection, and advanced monitoring technologies is key to a reliable and cost-effective solar energy\\\\ninfrastructure.\\')]\\n\\nAnswer:\\nSome preventive measures to reduce the occurrence of solar panel faults include:\\n\\n1. Routine Cleaning and Maintenance - Regular cleaning removes dust and debris, improving irradiance.\\n\\n2. Proper Installation Techniques - Employ trained professionals for panel installation to ensure correct wiring, grounding, and other installation techniques.\\n\\n3. Use of High-Quality Panels - Investing in high-quality solar panels can reduce the likelihood of faults.\\n\\n4. Monitoring System Performance - Regular monitoring of solar panel performance can detect faults early and prevent further damage.\\n\\n5. Use of Advanced Monitoring Technologies - Investing in advanced monitoring technologies can detect faults and provide real-time alerts.\\n\\n6. Periodic Inspection - Regular inspection of solar panels and systems can detect faults and prevent further damage.\\n\\n7. Use of Solar Panel Protection - Investing in solar panel protection can prevent damage from extreme weather and other environmental factors.'],\n",
              " 'contexts': [['of panels and block sunlight. Uneven soiling may cause mismatch losses and partial shading, leading to\\nreduced power generation and in some cases, hot spots.\\nCauses Behind Solar Panel Faults\\nThe underlying causes of solar panel faults can be broadly divided into five main categories:\\n1. Environmental Conditions - Extreme weather conditions such as hailstorms, high winds, heavy snow, and',\n",
              "   'cell degradation, glass breakage, and even fire. Hot spots are often caused by shading, bird droppings, or\\ninternal defects.\\n4. Potential Induced Degradation (PID) - PID is a long-term degradation mechanism caused by high voltage\\npotential differences between the solar cells and the grounded frame. This condition causes leakage',\n",
              "   \"positive and negative terminals. This can result in excessive current flow, which may cause localized heating,\\ndamage to the panel's internal components, or even fire hazards.\\n3. Hot Spots - Hot spots develop in localized regions of a panel where current continues to flow through a\\npartially shaded or damaged cell. These regions can reach dangerously high temperatures, which can cause\",\n",
              "   'spots and reducing mismatch losses. Ensure that diodes are functional and appropriately rated.\\n5. Use of PID-Resistant Panels - Modern panels are available with PID-resistant technologies such as\\nimproved encapsulants and modified cell structures. Using such panels in PID-prone environments reduces\\nlong-term degradation.'],\n",
              "  ['Comprehensive Report on Solar Panel Faults\\ncurrents from batteries or inverters can cause electrical faults. These can burn out bypass diodes, damage\\ncell interconnections, and lead to short circuits.\\nFault Detection Techniques for Solar Panels\\nEfficient fault detection is crucial for minimizing downtime and maintenance costs. The following methods are\\ncommonly used:',\n",
              "   'performance tracking. Systems can automatically flag irregular drops in output, detect pattern anomalies, and\\nalert maintenance teams.\\n6. Insulation Resistance Testing - This electrical test checks for leakage current paths between the PV array\\nand ground. It is particularly useful for detecting PID and insulation damage.\\nSolutions and Preventive Measures',\n",
              "   'Comprehensive Report on Solar Panel Faults\\n1. Routine Cleaning and Maintenance - Regular cleaning removes dust and debris, improving irradiance.\\nMaintenance schedules should include checking wiring, tightening connections, and ensuring grounding is\\nintact.\\n2. Proper Installation Techniques - Employ trained professionals for panel installation to ensure correct',\n",
              "   \"system's safety, and in some cases, lead to permanent damage to the solar array or connected systems.\\nSolar panels, though designed for durability and long service, can still fail due to factors like weather, material\\ndegradation, poor installation, and manufacturing defects. Understanding solar panel faults is critical for\",\n",
              "   'Comprehensive Report on Solar Panel Faults\\nIntroduction: What are Solar Panel Faults?\\nSolar panel faults refer to any abnormal conditions that interfere with the normal generation of electrical\\npower from photovoltaic (PV) modules. These faults can cause a reduction in energy output, compromise the'],\n",
              "  ['Comprehensive Report on Solar Panel Faults\\nIntroduction: What are Solar Panel Faults?\\nSolar panel faults refer to any abnormal conditions that interfere with the normal generation of electrical\\npower from photovoltaic (PV) modules. These faults can cause a reduction in energy output, compromise the',\n",
              "   'of panels and block sunlight. Uneven soiling may cause mismatch losses and partial shading, leading to\\nreduced power generation and in some cases, hot spots.\\nCauses Behind Solar Panel Faults\\nThe underlying causes of solar panel faults can be broadly divided into five main categories:\\n1. Environmental Conditions - Extreme weather conditions such as hailstorms, high winds, heavy snow, and',\n",
              "   '4. Aging and Wear - Solar panels naturally degrade over time, typically losing about 0.5-1% efficiency per\\nyear. Prolonged exposure to the environment results in yellowing of encapsulant, corrosion, and fatigue in\\ninterconnections.\\n5. Electrical Overstress and External Factors - Events such as lightning strikes, power surges, and reverse',\n",
              "   'Comprehensive Report on Solar Panel Faults\\ncurrents from batteries or inverters can cause electrical faults. These can burn out bypass diodes, damage\\ncell interconnections, and lead to short circuits.\\nFault Detection Techniques for Solar Panels\\nEfficient fault detection is crucial for minimizing downtime and maintenance costs. The following methods are\\ncommonly used:'],\n",
              "  ['cell degradation, glass breakage, and even fire. Hot spots are often caused by shading, bird droppings, or\\ninternal defects.\\n4. Potential Induced Degradation (PID) - PID is a long-term degradation mechanism caused by high voltage\\npotential differences between the solar cells and the grounded frame. This condition causes leakage',\n",
              "   'Comprehensive Report on Solar Panel Faults\\nIntroduction: What are Solar Panel Faults?\\nSolar panel faults refer to any abnormal conditions that interfere with the normal generation of electrical\\npower from photovoltaic (PV) modules. These faults can cause a reduction in energy output, compromise the',\n",
              "   '4. Aging and Wear - Solar panels naturally degrade over time, typically losing about 0.5-1% efficiency per\\nyear. Prolonged exposure to the environment results in yellowing of encapsulant, corrosion, and fatigue in\\ninterconnections.\\n5. Electrical Overstress and External Factors - Events such as lightning strikes, power surges, and reverse',\n",
              "   'commonly used:\\n1. Visual Inspection - This is the simplest method and involves physically inspecting the modules for cracks,\\nburn marks, discoloration, corrosion, or delamination. While it does not detect hidden faults, it is useful for\\nidentifying obvious damage.\\n2. Thermal Imaging - Infrared cameras are used to detect temperature anomalies on the panel surface. Hot'],\n",
              "  ['Comprehensive Report on Solar Panel Faults\\nIntroduction: What are Solar Panel Faults?\\nSolar panel faults refer to any abnormal conditions that interfere with the normal generation of electrical\\npower from photovoltaic (PV) modules. These faults can cause a reduction in energy output, compromise the',\n",
              "   'Solutions and Preventive Measures\\nTimely and appropriate solutions can restore solar panel performance and prevent long-term issues.',\n",
              "   'Comprehensive Report on Solar Panel Faults\\n1. Routine Cleaning and Maintenance - Regular cleaning removes dust and debris, improving irradiance.\\nMaintenance schedules should include checking wiring, tightening connections, and ensuring grounding is\\nintact.\\n2. Proper Installation Techniques - Employ trained professionals for panel installation to ensure correct',\n",
              "   \"system's safety, and in some cases, lead to permanent damage to the solar array or connected systems.\\nSolar panels, though designed for durability and long service, can still fail due to factors like weather, material\\ndegradation, poor installation, and manufacturing defects. Understanding solar panel faults is critical for\",\n",
              "   'understanding the types of faults, their causes, detection techniques, and preventive measures, stakeholders\\ncan enhance system performance, minimize downtime, and extend asset life. Investing in proper installation,\\nperiodic inspection, and advanced monitoring technologies is key to a reliable and cost-effective solar energy\\ninfrastructure.']],\n",
              " 'ground_truth_answer': ['Hot spots are localized regions on a solar panel that overheat due to current flowing through a shaded or damaged cell. They are caused by shading, bird droppings, or internal defects.',\n",
              "  'Three fault detection methods are visual inspection, thermal imaging, and I-V curve tracing.',\n",
              "  'Two environmental conditions that cause faults are extreme weather (e.g., hailstorms) and temperature fluctuations.',\n",
              "  'Potential Induced Degradation (PID) is a long-term degradation caused by high voltage potential differences between cells and the grounded frame, leading to leakage currents and power loss.',\n",
              "  'Preventive measures include routine cleaning and maintenance, proper installation, use of PID-resistant panels, and performance monitoring systems.']}"
            ]
          },
          "execution_count": 34,
          "metadata": {},
          "output_type": "execute_result"
        }
      ],
      "source": [
        "data"
      ]
    },
    {
      "cell_type": "code",
      "execution_count": null,
      "metadata": {
        "id": "5782e338"
      },
      "outputs": [],
      "source": [
        "#Try to fix error but cant\n",
        "for query in questions:\n",
        "    data[\"question\"].append(query)\n",
        "    data[\"answer\"].append(chain.invoke(query))\n",
        "    data[\"contexts\"].append([doc.page_content for doc in ensemble_retriever.get_relevant_documents(query)])"
      ]
    },
    {
      "cell_type": "code",
      "execution_count": null,
      "metadata": {
        "id": "GwYsngGW_v3_"
      },
      "outputs": [],
      "source": [
        "from datasets import Dataset\n",
        "\n",
        "dataset = Dataset.from_dict(data)"
      ]
    },
    {
      "cell_type": "code",
      "execution_count": null,
      "metadata": {
        "colab": {
          "base_uri": "https://localhost:8080/"
        },
        "id": "fQsGIcahAokd",
        "outputId": "2d4ec4ea-bc95-4a62-861e-468a0f572e74"
      },
      "outputs": [
        {
          "data": {
            "text/plain": [
              "Dataset({\n",
              "    features: ['question', 'answer', 'contexts', 'ground_truth_answer'],\n",
              "    num_rows: 5\n",
              "})"
            ]
          },
          "execution_count": 36,
          "metadata": {},
          "output_type": "execute_result"
        }
      ],
      "source": [
        "dataset"
      ]
    },
    {
      "cell_type": "code",
      "execution_count": null,
      "metadata": {
        "colab": {
          "base_uri": "https://localhost:8080/"
        },
        "collapsed": true,
        "id": "lZcA655KArhD",
        "outputId": "a13eb7ef-b92f-4bd6-96ac-c98565debe62"
      },
      "outputs": [
        {
          "data": {
            "text/plain": [
              "{'question': 'List two main environmental conditions that cause solar panel faults.',\n",
              " 'answer': 'Human: \\nYou are a helpful assistant. Use the provided context below to answer the question.\\nOnly include information that appears in the context. If the answer is not found, say:\\n\"I could not find the answer in the provided document.\"\\n\\nQuestion:\\nList two main environmental conditions that cause solar panel faults.\\n\\nContext:\\n[Document(id=\\'c718e40a-36d4-49a5-a92a-37fb57d35207\\', metadata={\\'creationdate\\': \\'D:20250704030500\\', \\'producer\\': \\'PyFPDF 1.7.2 http://pyfpdf.googlecode.com/\\', \\'source\\': \\'/content/Solar_Panel_Faults_Extended_Cleaned.pdf\\', \\'total_pages\\': 4, \\'page_label\\': \\'1\\', \\'creator\\': \\'PyPDF\\', \\'page\\': 0}, page_content=\\'Comprehensive Report on Solar Panel Faults\\\\nIntroduction: What are Solar Panel Faults?\\\\nSolar panel faults refer to any abnormal conditions that interfere with the normal generation of electrical\\\\npower from photovoltaic (PV) modules. These faults can cause a reduction in energy output, compromise the\\'), Document(id=\\'f06a794f-e53e-409a-83e4-10f6954466d6\\', metadata={\\'page_label\\': \\'2\\', \\'page\\': 1, \\'source\\': \\'/content/Solar_Panel_Faults_Extended_Cleaned.pdf\\', \\'creator\\': \\'PyPDF\\', \\'total_pages\\': 4, \\'creationdate\\': \\'D:20250704030500\\', \\'producer\\': \\'PyFPDF 1.7.2 http://pyfpdf.googlecode.com/\\'}, page_content=\\'of panels and block sunlight. Uneven soiling may cause mismatch losses and partial shading, leading to\\\\nreduced power generation and in some cases, hot spots.\\\\nCauses Behind Solar Panel Faults\\\\nThe underlying causes of solar panel faults can be broadly divided into five main categories:\\\\n1. Environmental Conditions - Extreme weather conditions such as hailstorms, high winds, heavy snow, and\\'), Document(id=\\'7e480943-5005-414b-ba73-033093d2b8a5\\', metadata={\\'page_label\\': \\'2\\', \\'producer\\': \\'PyFPDF 1.7.2 http://pyfpdf.googlecode.com/\\', \\'creationdate\\': \\'D:20250704030500\\', \\'total_pages\\': 4, \\'source\\': \\'/content/Solar_Panel_Faults_Extended_Cleaned.pdf\\', \\'creator\\': \\'PyPDF\\', \\'page\\': 1}, page_content=\\'4. Aging and Wear - Solar panels naturally degrade over time, typically losing about 0.5-1% efficiency per\\\\nyear. Prolonged exposure to the environment results in yellowing of encapsulant, corrosion, and fatigue in\\\\ninterconnections.\\\\n5. Electrical Overstress and External Factors - Events such as lightning strikes, power surges, and reverse\\'), Document(metadata={\\'producer\\': \\'PyFPDF 1.7.2 http://pyfpdf.googlecode.com/\\', \\'creator\\': \\'PyPDF\\', \\'creationdate\\': \\'D:20250704030500\\', \\'source\\': \\'/content/Solar_Panel_Faults_Extended_Cleaned.pdf\\', \\'total_pages\\': 4, \\'page\\': 2, \\'page_label\\': \\'3\\'}, page_content=\\'Comprehensive Report on Solar Panel Faults\\\\ncurrents from batteries or inverters can cause electrical faults. These can burn out bypass diodes, damage\\\\ncell interconnections, and lead to short circuits.\\\\nFault Detection Techniques for Solar Panels\\\\nEfficient fault detection is crucial for minimizing downtime and maintenance costs. The following methods are\\\\ncommonly used:\\')]\\n\\nAnswer:\\n\\n1. Environmental Conditions: Extreme weather conditions such as hailstorms, heavy snow, and high winds can cause solar panel faults.\\n\\n2. Environmental Conditions: Uneven soiling may cause mismatch losses and partial shading, leading to reduced power generation and in some cases, hot spots.\\n\\n3. Aging and Wear: Solar panels naturally degrade over time, typically losing about 0.5-1% efficiency per year. Prolonged exposure to the environment results in yellowing of encapsulant, corrosion, and fatigue in interconnections.\\n\\n4. Electrical Overstress and External Factors: Events such as lightning strikes, power surges, and reverse power can cause electrical faults.\\n\\n5. Electrical Overstress and External Factors: Events such as lightning strikes, power surges, and reverse power can cause electrical faults.',\n",
              " 'contexts': ['Comprehensive Report on Solar Panel Faults\\nIntroduction: What are Solar Panel Faults?\\nSolar panel faults refer to any abnormal conditions that interfere with the normal generation of electrical\\npower from photovoltaic (PV) modules. These faults can cause a reduction in energy output, compromise the',\n",
              "  'of panels and block sunlight. Uneven soiling may cause mismatch losses and partial shading, leading to\\nreduced power generation and in some cases, hot spots.\\nCauses Behind Solar Panel Faults\\nThe underlying causes of solar panel faults can be broadly divided into five main categories:\\n1. Environmental Conditions - Extreme weather conditions such as hailstorms, high winds, heavy snow, and',\n",
              "  '4. Aging and Wear - Solar panels naturally degrade over time, typically losing about 0.5-1% efficiency per\\nyear. Prolonged exposure to the environment results in yellowing of encapsulant, corrosion, and fatigue in\\ninterconnections.\\n5. Electrical Overstress and External Factors - Events such as lightning strikes, power surges, and reverse',\n",
              "  'Comprehensive Report on Solar Panel Faults\\ncurrents from batteries or inverters can cause electrical faults. These can burn out bypass diodes, damage\\ncell interconnections, and lead to short circuits.\\nFault Detection Techniques for Solar Panels\\nEfficient fault detection is crucial for minimizing downtime and maintenance costs. The following methods are\\ncommonly used:'],\n",
              " 'ground_truth_answer': 'Two environmental conditions that cause faults are extreme weather (e.g., hailstorms) and temperature fluctuations.'}"
            ]
          },
          "execution_count": 37,
          "metadata": {},
          "output_type": "execute_result"
        }
      ],
      "source": [
        "dataset[2]"
      ]
    },
    {
      "cell_type": "code",
      "execution_count": null,
      "metadata": {
        "colab": {
          "base_uri": "https://localhost:8080/",
          "height": 370
        },
        "id": "bSStcbUSAvUZ",
        "outputId": "a9fc9fe2-115b-4d91-dc04-f378c8a04942"
      },
      "outputs": [
        {
          "ename": "TypeError",
          "evalue": "metaclass conflict: the metaclass of a derived class must be a (non-strict) subclass of the metaclasses of all its bases",
          "output_type": "error",
          "traceback": [
            "\u001b[0;31m---------------------------------------------------------------------------\u001b[0m",
            "\u001b[0;31mTypeError\u001b[0m                                 Traceback (most recent call last)",
            "\u001b[0;32m/tmp/ipython-input-42-3295511857.py\u001b[0m in \u001b[0;36m<cell line: 0>\u001b[0;34m()\u001b[0m\n\u001b[0;32m----> 1\u001b[0;31m \u001b[0;32mfrom\u001b[0m \u001b[0mragas\u001b[0m\u001b[0;34m.\u001b[0m\u001b[0mmetrics\u001b[0m \u001b[0;32mimport\u001b[0m \u001b[0mcontexts_precision\u001b[0m\u001b[0;34m,\u001b[0m \u001b[0mcontexts_recall\u001b[0m\u001b[0;34m,\u001b[0m \u001b[0manswer_relevancy\u001b[0m\u001b[0;34m,\u001b[0m \u001b[0mfaithfulness\u001b[0m\u001b[0;34m\u001b[0m\u001b[0;34m\u001b[0m\u001b[0m\n\u001b[0m\u001b[1;32m      2\u001b[0m \u001b[0;32mfrom\u001b[0m \u001b[0mragas\u001b[0m \u001b[0;32mimport\u001b[0m \u001b[0mevaluate\u001b[0m\u001b[0;34m\u001b[0m\u001b[0;34m\u001b[0m\u001b[0m\n\u001b[1;32m      3\u001b[0m \u001b[0;34m\u001b[0m\u001b[0m\n\u001b[1;32m      4\u001b[0m result = evaluate(\n\u001b[1;32m      5\u001b[0m     \u001b[0mdataset\u001b[0m \u001b[0;34m=\u001b[0m \u001b[0mdataset\u001b[0m\u001b[0;34m,\u001b[0m\u001b[0;34m\u001b[0m\u001b[0;34m\u001b[0m\u001b[0m\n",
            "\u001b[0;32m/usr/local/lib/python3.11/dist-packages/ragas/__init__.py\u001b[0m in \u001b[0;36m<module>\u001b[0;34m\u001b[0m\n\u001b[0;32m----> 1\u001b[0;31m \u001b[0;32mfrom\u001b[0m \u001b[0mragas\u001b[0m\u001b[0;34m.\u001b[0m\u001b[0madaptation\u001b[0m \u001b[0;32mimport\u001b[0m \u001b[0madapt\u001b[0m\u001b[0;34m\u001b[0m\u001b[0;34m\u001b[0m\u001b[0m\n\u001b[0m\u001b[1;32m      2\u001b[0m \u001b[0;32mfrom\u001b[0m \u001b[0mragas\u001b[0m\u001b[0;34m.\u001b[0m\u001b[0mevaluation\u001b[0m \u001b[0;32mimport\u001b[0m \u001b[0mevaluate\u001b[0m\u001b[0;34m\u001b[0m\u001b[0;34m\u001b[0m\u001b[0m\n\u001b[1;32m      3\u001b[0m \u001b[0;32mfrom\u001b[0m \u001b[0mragas\u001b[0m\u001b[0;34m.\u001b[0m\u001b[0mrun_config\u001b[0m \u001b[0;32mimport\u001b[0m \u001b[0mRunConfig\u001b[0m\u001b[0;34m\u001b[0m\u001b[0;34m\u001b[0m\u001b[0m\n\u001b[1;32m      4\u001b[0m \u001b[0;34m\u001b[0m\u001b[0m\n\u001b[1;32m      5\u001b[0m \u001b[0;32mtry\u001b[0m\u001b[0;34m:\u001b[0m\u001b[0;34m\u001b[0m\u001b[0;34m\u001b[0m\u001b[0m\n",
            "\u001b[0;32m/usr/local/lib/python3.11/dist-packages/ragas/adaptation.py\u001b[0m in \u001b[0;36m<module>\u001b[0;34m\u001b[0m\n\u001b[1;32m      3\u001b[0m \u001b[0;32mfrom\u001b[0m \u001b[0mlangchain_core\u001b[0m\u001b[0;34m.\u001b[0m\u001b[0mlanguage_models\u001b[0m \u001b[0;32mimport\u001b[0m \u001b[0mBaseLanguageModel\u001b[0m\u001b[0;34m\u001b[0m\u001b[0;34m\u001b[0m\u001b[0m\n\u001b[1;32m      4\u001b[0m \u001b[0;34m\u001b[0m\u001b[0m\n\u001b[0;32m----> 5\u001b[0;31m \u001b[0;32mfrom\u001b[0m \u001b[0mragas\u001b[0m\u001b[0;34m.\u001b[0m\u001b[0mllms\u001b[0m \u001b[0;32mimport\u001b[0m \u001b[0mllm_factory\u001b[0m\u001b[0;34m\u001b[0m\u001b[0;34m\u001b[0m\u001b[0m\n\u001b[0m\u001b[1;32m      6\u001b[0m \u001b[0;32mfrom\u001b[0m \u001b[0mragas\u001b[0m\u001b[0;34m.\u001b[0m\u001b[0mllms\u001b[0m\u001b[0;34m.\u001b[0m\u001b[0mbase\u001b[0m \u001b[0;32mimport\u001b[0m \u001b[0mBaseRagasLLM\u001b[0m\u001b[0;34m,\u001b[0m \u001b[0mLangchainLLMWrapper\u001b[0m\u001b[0;34m\u001b[0m\u001b[0;34m\u001b[0m\u001b[0m\n\u001b[1;32m      7\u001b[0m \u001b[0;32mfrom\u001b[0m \u001b[0mragas\u001b[0m\u001b[0;34m.\u001b[0m\u001b[0mmetrics\u001b[0m\u001b[0;34m.\u001b[0m\u001b[0mbase\u001b[0m \u001b[0;32mimport\u001b[0m \u001b[0mMetricWithLLM\u001b[0m\u001b[0;34m\u001b[0m\u001b[0;34m\u001b[0m\u001b[0m\n",
            "\u001b[0;32m/usr/local/lib/python3.11/dist-packages/ragas/llms/__init__.py\u001b[0m in \u001b[0;36m<module>\u001b[0;34m\u001b[0m\n\u001b[0;32m----> 1\u001b[0;31m \u001b[0;32mfrom\u001b[0m \u001b[0mragas\u001b[0m\u001b[0;34m.\u001b[0m\u001b[0mllms\u001b[0m\u001b[0;34m.\u001b[0m\u001b[0mbase\u001b[0m \u001b[0;32mimport\u001b[0m \u001b[0mBaseRagasLLM\u001b[0m\u001b[0;34m,\u001b[0m \u001b[0mLangchainLLMWrapper\u001b[0m\u001b[0;34m,\u001b[0m \u001b[0mllm_factory\u001b[0m\u001b[0;34m\u001b[0m\u001b[0;34m\u001b[0m\u001b[0m\n\u001b[0m\u001b[1;32m      2\u001b[0m \u001b[0;34m\u001b[0m\u001b[0m\n\u001b[1;32m      3\u001b[0m __all__ = [\n\u001b[1;32m      4\u001b[0m     \u001b[0;34m\"BaseRagasLLM\"\u001b[0m\u001b[0;34m,\u001b[0m\u001b[0;34m\u001b[0m\u001b[0;34m\u001b[0m\u001b[0m\n\u001b[1;32m      5\u001b[0m     \u001b[0;34m\"LangchainLLMWrapper\"\u001b[0m\u001b[0;34m,\u001b[0m\u001b[0;34m\u001b[0m\u001b[0;34m\u001b[0m\u001b[0m\n",
            "\u001b[0;32m/usr/local/lib/python3.11/dist-packages/ragas/llms/base.py\u001b[0m in \u001b[0;36m<module>\u001b[0;34m\u001b[0m\n\u001b[1;32m      8\u001b[0m \u001b[0;32mfrom\u001b[0m \u001b[0mfunctools\u001b[0m \u001b[0;32mimport\u001b[0m \u001b[0mpartial\u001b[0m\u001b[0;34m\u001b[0m\u001b[0;34m\u001b[0m\u001b[0m\n\u001b[1;32m      9\u001b[0m \u001b[0;34m\u001b[0m\u001b[0m\n\u001b[0;32m---> 10\u001b[0;31m \u001b[0;32mfrom\u001b[0m \u001b[0mlangchain_community\u001b[0m\u001b[0;34m.\u001b[0m\u001b[0mchat_models\u001b[0m \u001b[0;32mimport\u001b[0m \u001b[0mChatVertexAI\u001b[0m\u001b[0;34m\u001b[0m\u001b[0;34m\u001b[0m\u001b[0m\n\u001b[0m\u001b[1;32m     11\u001b[0m \u001b[0;32mfrom\u001b[0m \u001b[0mlangchain_community\u001b[0m\u001b[0;34m.\u001b[0m\u001b[0mllms\u001b[0m \u001b[0;32mimport\u001b[0m \u001b[0mVertexAI\u001b[0m\u001b[0;34m\u001b[0m\u001b[0;34m\u001b[0m\u001b[0m\n\u001b[1;32m     12\u001b[0m \u001b[0;32mfrom\u001b[0m \u001b[0mlangchain_core\u001b[0m\u001b[0;34m.\u001b[0m\u001b[0mlanguage_models\u001b[0m \u001b[0;32mimport\u001b[0m \u001b[0mBaseLanguageModel\u001b[0m\u001b[0;34m\u001b[0m\u001b[0;34m\u001b[0m\u001b[0m\n",
            "\u001b[0;32m/usr/lib/python3.11/importlib/_bootstrap.py\u001b[0m in \u001b[0;36m_handle_fromlist\u001b[0;34m(module, fromlist, import_, recursive)\u001b[0m\n",
            "\u001b[0;32m/usr/local/lib/python3.11/dist-packages/langchain_community/chat_models/__init__.py\u001b[0m in \u001b[0;36m__getattr__\u001b[0;34m(name)\u001b[0m\n\u001b[1;32m    269\u001b[0m \u001b[0;32mdef\u001b[0m \u001b[0m__getattr__\u001b[0m\u001b[0;34m(\u001b[0m\u001b[0mname\u001b[0m\u001b[0;34m:\u001b[0m \u001b[0mstr\u001b[0m\u001b[0;34m)\u001b[0m \u001b[0;34m->\u001b[0m \u001b[0mAny\u001b[0m\u001b[0;34m:\u001b[0m\u001b[0;34m\u001b[0m\u001b[0;34m\u001b[0m\u001b[0m\n\u001b[1;32m    270\u001b[0m     \u001b[0;32mif\u001b[0m \u001b[0mname\u001b[0m \u001b[0;32min\u001b[0m \u001b[0m_module_lookup\u001b[0m\u001b[0;34m:\u001b[0m\u001b[0;34m\u001b[0m\u001b[0;34m\u001b[0m\u001b[0m\n\u001b[0;32m--> 271\u001b[0;31m         \u001b[0mmodule\u001b[0m \u001b[0;34m=\u001b[0m \u001b[0mimportlib\u001b[0m\u001b[0;34m.\u001b[0m\u001b[0mimport_module\u001b[0m\u001b[0;34m(\u001b[0m\u001b[0m_module_lookup\u001b[0m\u001b[0;34m[\u001b[0m\u001b[0mname\u001b[0m\u001b[0;34m]\u001b[0m\u001b[0;34m)\u001b[0m\u001b[0;34m\u001b[0m\u001b[0;34m\u001b[0m\u001b[0m\n\u001b[0m\u001b[1;32m    272\u001b[0m         \u001b[0;32mreturn\u001b[0m \u001b[0mgetattr\u001b[0m\u001b[0;34m(\u001b[0m\u001b[0mmodule\u001b[0m\u001b[0;34m,\u001b[0m \u001b[0mname\u001b[0m\u001b[0;34m)\u001b[0m\u001b[0;34m\u001b[0m\u001b[0;34m\u001b[0m\u001b[0m\n\u001b[1;32m    273\u001b[0m     \u001b[0;32mraise\u001b[0m \u001b[0mAttributeError\u001b[0m\u001b[0;34m(\u001b[0m\u001b[0;34mf\"module {__name__} has no attribute {name}\"\u001b[0m\u001b[0;34m)\u001b[0m\u001b[0;34m\u001b[0m\u001b[0;34m\u001b[0m\u001b[0m\n",
            "\u001b[0;32m/usr/lib/python3.11/importlib/__init__.py\u001b[0m in \u001b[0;36mimport_module\u001b[0;34m(name, package)\u001b[0m\n\u001b[1;32m    124\u001b[0m                 \u001b[0;32mbreak\u001b[0m\u001b[0;34m\u001b[0m\u001b[0;34m\u001b[0m\u001b[0m\n\u001b[1;32m    125\u001b[0m             \u001b[0mlevel\u001b[0m \u001b[0;34m+=\u001b[0m \u001b[0;36m1\u001b[0m\u001b[0;34m\u001b[0m\u001b[0;34m\u001b[0m\u001b[0m\n\u001b[0;32m--> 126\u001b[0;31m     \u001b[0;32mreturn\u001b[0m \u001b[0m_bootstrap\u001b[0m\u001b[0;34m.\u001b[0m\u001b[0m_gcd_import\u001b[0m\u001b[0;34m(\u001b[0m\u001b[0mname\u001b[0m\u001b[0;34m[\u001b[0m\u001b[0mlevel\u001b[0m\u001b[0;34m:\u001b[0m\u001b[0;34m]\u001b[0m\u001b[0;34m,\u001b[0m \u001b[0mpackage\u001b[0m\u001b[0;34m,\u001b[0m \u001b[0mlevel\u001b[0m\u001b[0;34m)\u001b[0m\u001b[0;34m\u001b[0m\u001b[0;34m\u001b[0m\u001b[0m\n\u001b[0m\u001b[1;32m    127\u001b[0m \u001b[0;34m\u001b[0m\u001b[0m\n\u001b[1;32m    128\u001b[0m \u001b[0;34m\u001b[0m\u001b[0m\n",
            "\u001b[0;32m/usr/local/lib/python3.11/dist-packages/langchain_community/chat_models/vertexai.py\u001b[0m in \u001b[0;36m<module>\u001b[0;34m\u001b[0m\n\u001b[1;32m     29\u001b[0m \u001b[0;32mfrom\u001b[0m \u001b[0mlangchain_core\u001b[0m\u001b[0;34m.\u001b[0m\u001b[0mpydantic_v1\u001b[0m \u001b[0;32mimport\u001b[0m \u001b[0mroot_validator\u001b[0m\u001b[0;34m\u001b[0m\u001b[0;34m\u001b[0m\u001b[0m\n\u001b[1;32m     30\u001b[0m \u001b[0;34m\u001b[0m\u001b[0m\n\u001b[0;32m---> 31\u001b[0;31m from langchain_community.llms.vertexai import (\n\u001b[0m\u001b[1;32m     32\u001b[0m     \u001b[0m_VertexAICommon\u001b[0m\u001b[0;34m,\u001b[0m\u001b[0;34m\u001b[0m\u001b[0;34m\u001b[0m\u001b[0m\n\u001b[1;32m     33\u001b[0m     \u001b[0mis_codey_model\u001b[0m\u001b[0;34m,\u001b[0m\u001b[0;34m\u001b[0m\u001b[0;34m\u001b[0m\u001b[0m\n",
            "\u001b[0;32m/usr/local/lib/python3.11/dist-packages/langchain_community/llms/vertexai.py\u001b[0m in \u001b[0;36m<module>\u001b[0;34m\u001b[0m\n\u001b[1;32m    207\u001b[0m     \u001b[0malternative_import\u001b[0m\u001b[0;34m=\u001b[0m\u001b[0;34m\"langchain_google_vertexai.VertexAI\"\u001b[0m\u001b[0;34m,\u001b[0m\u001b[0;34m\u001b[0m\u001b[0;34m\u001b[0m\u001b[0m\n\u001b[1;32m    208\u001b[0m )\n\u001b[0;32m--> 209\u001b[0;31m \u001b[0;32mclass\u001b[0m \u001b[0mVertexAI\u001b[0m\u001b[0;34m(\u001b[0m\u001b[0m_VertexAICommon\u001b[0m\u001b[0;34m,\u001b[0m \u001b[0mBaseLLM\u001b[0m\u001b[0;34m)\u001b[0m\u001b[0;34m:\u001b[0m\u001b[0;34m\u001b[0m\u001b[0;34m\u001b[0m\u001b[0m\n\u001b[0m\u001b[1;32m    210\u001b[0m     \u001b[0;34m\"\"\"Google Vertex AI large language models.\"\"\"\u001b[0m\u001b[0;34m\u001b[0m\u001b[0;34m\u001b[0m\u001b[0m\n\u001b[1;32m    211\u001b[0m \u001b[0;34m\u001b[0m\u001b[0m\n",
            "\u001b[0;31mTypeError\u001b[0m: metaclass conflict: the metaclass of a derived class must be a (non-strict) subclass of the metaclasses of all its bases"
          ]
        }
      ],
      "source": [
        "from ragas.metrics import contexts_precision, contexts_recall, answer_relevancy, faithfulness\n",
        "from ragas import evaluate\n",
        "\n",
        "result = evaluate(\n",
        "    dataset = dataset,\n",
        "    metrics=[\n",
        "        contexts_precision,\n",
        "        contexts_recall,\n",
        "        answer_relevancy,\n",
        "        faithfulness,\n",
        "    ],\n",
        ")"
      ]
    },
    {
      "cell_type": "code",
      "execution_count": null,
      "metadata": {
        "id": "PnmVQx1KAyu6"
      },
      "outputs": [],
      "source": [
        "result"
      ]
    },
    {
      "cell_type": "code",
      "execution_count": null,
      "metadata": {
        "id": "0Qhw1xkGA0_g"
      },
      "outputs": [],
      "source": [
        "results = result.to_pandas()\n",
        "results"
      ]
    },
    {
      "cell_type": "code",
      "execution_count": null,
      "metadata": {
        "id": "S-iylC04A30i"
      },
      "outputs": [],
      "source": [
        "import seaborn as sns\n",
        "import matplotlib.pyplot as plt\n",
        "\n",
        "heatmap_data = results[['context_precision', 'context_recall', 'answer_relevancy', 'faithfulness']]\n",
        "\n",
        "plt.figure(figsize=(10, 8))\n",
        "sns.heatmap(heatmap_data, annot=True, fmt=\".2f\", linewidths=.5)\n",
        "\n",
        "plt.yticks(ticks=range(len(results['question'])), labels=results['question'], rotation=0)\n",
        "\n",
        "plt.show()"
      ]
    },
    {
      "cell_type": "markdown",
      "metadata": {
        "id": "AOAnSj2A7ZQD"
      },
      "source": [
        "##HISTORY"
      ]
    },
    {
      "cell_type": "markdown",
      "metadata": {
        "id": "XK3zgMi98EWn"
      },
      "source": [
        " Import & Setup History-Aware Retriever"
      ]
    },
    {
      "cell_type": "code",
      "execution_count": null,
      "metadata": {
        "colab": {
          "base_uri": "https://localhost:8080/",
          "height": 363
        },
        "id": "On8tTjzs7bCF",
        "outputId": "866a3554-3d2d-43d6-b44c-ea56b85f6d73"
      },
      "outputs": [
        {
          "ename": "TypeError",
          "evalue": "unsupported operand type(s) for |: 'function' and 'RerankRetriever'",
          "output_type": "error",
          "traceback": [
            "\u001b[0;31m---------------------------------------------------------------------------\u001b[0m",
            "\u001b[0;31mTypeError\u001b[0m                                 Traceback (most recent call last)",
            "\u001b[0;32m/tmp/ipython-input-60-1245624020.py\u001b[0m in \u001b[0;36m<cell line: 0>\u001b[0;34m()\u001b[0m\n\u001b[1;32m     16\u001b[0m \u001b[0;34m\u001b[0m\u001b[0m\n\u001b[1;32m     17\u001b[0m \u001b[0;31m# Create a history-aware retriever using your rerank retriever\u001b[0m\u001b[0;34m\u001b[0m\u001b[0;34m\u001b[0m\u001b[0m\n\u001b[0;32m---> 18\u001b[0;31m history_aware_retriever = create_history_aware_retriever(\n\u001b[0m\u001b[1;32m     19\u001b[0m     \u001b[0mllm\u001b[0m\u001b[0;34m=\u001b[0m\u001b[0mllm\u001b[0m\u001b[0;34m,\u001b[0m\u001b[0;34m\u001b[0m\u001b[0;34m\u001b[0m\u001b[0m\n\u001b[1;32m     20\u001b[0m     \u001b[0mretriever\u001b[0m\u001b[0;34m=\u001b[0m\u001b[0mrerank_retriever\u001b[0m\u001b[0;34m,\u001b[0m\u001b[0;34m\u001b[0m\u001b[0;34m\u001b[0m\u001b[0m\n",
            "\u001b[0;32m/usr/local/lib/python3.11/dist-packages/langchain/chains/history_aware_retriever.py\u001b[0m in \u001b[0;36mcreate_history_aware_retriever\u001b[0;34m(llm, retriever, prompt)\u001b[0m\n\u001b[1;32m     60\u001b[0m             \u001b[0;32mlambda\u001b[0m \u001b[0mx\u001b[0m\u001b[0;34m:\u001b[0m \u001b[0;32mnot\u001b[0m \u001b[0mx\u001b[0m\u001b[0;34m.\u001b[0m\u001b[0mget\u001b[0m\u001b[0;34m(\u001b[0m\u001b[0;34m\"chat_history\"\u001b[0m\u001b[0;34m,\u001b[0m \u001b[0;32mFalse\u001b[0m\u001b[0;34m)\u001b[0m\u001b[0;34m,\u001b[0m\u001b[0;34m\u001b[0m\u001b[0;34m\u001b[0m\u001b[0m\n\u001b[1;32m     61\u001b[0m             \u001b[0;31m# If no chat history, then we just pass input to retriever\u001b[0m\u001b[0;34m\u001b[0m\u001b[0;34m\u001b[0m\u001b[0m\n\u001b[0;32m---> 62\u001b[0;31m             \u001b[0;34m(\u001b[0m\u001b[0;32mlambda\u001b[0m \u001b[0mx\u001b[0m\u001b[0;34m:\u001b[0m \u001b[0mx\u001b[0m\u001b[0;34m[\u001b[0m\u001b[0;34m\"input\"\u001b[0m\u001b[0;34m]\u001b[0m\u001b[0;34m)\u001b[0m \u001b[0;34m|\u001b[0m \u001b[0mretriever\u001b[0m\u001b[0;34m,\u001b[0m\u001b[0;34m\u001b[0m\u001b[0;34m\u001b[0m\u001b[0m\n\u001b[0m\u001b[1;32m     63\u001b[0m         ),\n\u001b[1;32m     64\u001b[0m         \u001b[0;31m# If chat history, then we pass inputs to LLM chain, then to retriever\u001b[0m\u001b[0;34m\u001b[0m\u001b[0;34m\u001b[0m\u001b[0m\n",
            "\u001b[0;31mTypeError\u001b[0m: unsupported operand type(s) for |: 'function' and 'RerankRetriever'"
          ]
        }
      ],
      "source": [
        "from langchain.chains import create_history_aware_retriever\n",
        "from langchain.prompts import ChatPromptTemplate\n",
        "from langchain_core.prompts import MessagesPlaceholder\n",
        "\n",
        "# System message for rewriting queries\n",
        "contextualize_system_prompt = (\n",
        "    \"Using chat history and the latest user question, reformulate the question if needed; otherwise return it as is.\"\n",
        ")\n",
        "\n",
        "# Prompt to inject chat history + new input\n",
        "contextualize_prompt = ChatPromptTemplate.from_messages([\n",
        "    (\"system\", contextualize_system_prompt),\n",
        "    MessagesPlaceholder(\"chat_history\"),\n",
        "    (\"human\", \"{input}\")\n",
        "])\n",
        "\n",
        "# Create a history-aware retriever using your rerank retriever\n",
        "history_aware_retriever = create_history_aware_retriever(\n",
        "    llm=llm,\n",
        "    retriever=rerank_retriever,\n",
        "    prompt=contextualize_prompt\n",
        ")\n"
      ]
    },
    {
      "cell_type": "markdown",
      "metadata": {
        "id": "01HDw80t8Bi1"
      },
      "source": [
        "Step 2: Define the Main QA Prompt and RAG Chain"
      ]
    },
    {
      "cell_type": "code",
      "execution_count": null,
      "metadata": {
        "id": "CyWorcl37Y9x"
      },
      "outputs": [],
      "source": [
        "from langchain.chains.combine_documents.stuff import create_stuff_documents_chain\n",
        "from langchain.chains import LLMChain\n",
        "\n",
        "# Define answer generation prompt\n",
        "qa_system_prompt = (\n",
        "    \"You are an intelligent assistant. Use the following context to answer the user's question. \"\n",
        "    \"If the answer is not in the context, respond with: 'I could not find the answer in the provided document.'\\n\\n\"\n",
        "    \"{context}\"\n",
        ")\n",
        "\n",
        "# Prompt with system + history + user input\n",
        "rag_prompt = ChatPromptTemplate.from_messages([\n",
        "    (\"system\", qa_system_prompt),\n",
        "    MessagesPlaceholder(\"chat_history\"),\n",
        "    (\"human\", \"{input}\")\n",
        "])\n",
        "\n",
        "# LLM chain for final answer generation\n",
        "llm_chain = LLMChain(llm=llm, prompt=rag_prompt)\n",
        "\n",
        "# Stuff documents into prompt + apply LLM\n",
        "rag_chain = create_stuff_documents_chain(llm_chain=llm_chain)\n"
      ]
    },
    {
      "cell_type": "markdown",
      "metadata": {
        "id": "UZp0eEAP8Imd"
      },
      "source": [
        "Step 3: Combine Retriever + RAG into QA Chain"
      ]
    },
    {
      "cell_type": "code",
      "execution_count": null,
      "metadata": {
        "id": "pPrt-Wql8Kjh"
      },
      "outputs": [],
      "source": [
        "from langchain.chains import RetrievalQA\n",
        "\n",
        "# Final RAG chain: retrieves → reranks → rewrites → answers\n",
        "conversational_rag_chain = RetrievalQA.from_chain(\n",
        "    llm_chain=rag_chain,\n",
        "    retriever=history_aware_retriever,\n",
        "    return_source_documents=False\n",
        ")\n"
      ]
    },
    {
      "cell_type": "markdown",
      "metadata": {
        "id": "BA9TFiyy8NNq"
      },
      "source": [
        " Step 4: Add Session-Based Memory to Make It Conversational"
      ]
    },
    {
      "cell_type": "code",
      "execution_count": null,
      "metadata": {
        "id": "gri1j1LI8OxD"
      },
      "outputs": [],
      "source": [
        "from langchain_community.chat_message_histories import ChatMessageHistory\n",
        "from langchain_core.chat_history import BaseChatMessageHistory\n",
        "from langchain_core.runnables.history import RunnableWithMessageHistory\n",
        "\n",
        "# In-memory session storage\n",
        "store = {}\n",
        "\n",
        "# Function to fetch or create session history\n",
        "def get_session_history(session_id: str) -> BaseChatMessageHistory:\n",
        "    if session_id not in store:\n",
        "        store[session_id] = ChatMessageHistory()\n",
        "    return store[session_id]\n",
        "\n",
        "# Wrap with RunnableWithMessageHistory to add conversation tracking\n",
        "conversational_rag = RunnableWithMessageHistory(\n",
        "    conversational_rag_chain,\n",
        "    get_session_history,\n",
        "    input_message_key=\"query\",         # input key used during invoke\n",
        "    history_messages_key=\"chat_history\"\n",
        ")\n"
      ]
    },
    {
      "cell_type": "markdown",
      "metadata": {
        "id": "flZgv2Hj8SNj"
      },
      "source": [
        "Step 5: Ask Questions and Test the Conversation"
      ]
    },
    {
      "cell_type": "code",
      "execution_count": null,
      "metadata": {
        "id": "ZpIawc0y8UI7"
      },
      "outputs": [],
      "source": [
        "# Start a session and ask a question\n",
        "response1 = conversational_rag.invoke(\n",
        "    {\"query\": \"What is the mission and vision of the company?\"},\n",
        "    config={\"configurable\": {\"session_id\": \"user1\"}}\n",
        ")\n",
        "print(response1)\n",
        "\n",
        "# Follow-up: chat history is retained and used for context\n",
        "response2 = conversational_rag.invoke(\n",
        "    {\"query\": \"What products do they manufacture?\"},\n",
        "    config={\"configurable\": {\"session_id\": \"user1\"}}\n",
        ")\n",
        "print(response2)\n"
      ]
    }
  ],
  "metadata": {
    "accelerator": "GPU",
    "colab": {
      "gpuType": "T4",
      "provenance": [],
      "include_colab_link": true
    },
    "kernelspec": {
      "display_name": "Python 3",
      "name": "python3"
    },
    "language_info": {
      "name": "python"
    }
  },
  "nbformat": 4,
  "nbformat_minor": 0
}